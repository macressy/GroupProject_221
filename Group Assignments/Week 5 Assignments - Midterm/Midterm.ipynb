{
 "cells": [
  {
   "cell_type": "markdown",
   "id": "696f1f93",
   "metadata": {},
   "source": [
    "## Week 5 Assignment - Midterm\n",
    "### Race as Vulnerability: The Relationship between Policing and Gentrification\n",
    "#### John Parks, Joshua Claxton and Miles Cressy\n",
    "\n",
    "The aim for this midterm is to demonstrate our progress in assessing the relationship between poli"
   ]
  },
  {
   "cell_type": "markdown",
   "id": "d9d329e3",
   "metadata": {},
   "source": [
    "Import various packages for data manipulation/cleaning and visualization."
   ]
  },
  {
   "cell_type": "code",
   "execution_count": null,
   "id": "6f507833-5ed7-4d7d-a04d-3b70be216d8b",
   "metadata": {},
   "outputs": [],
   "source": [
    "# standard data manipulation\n",
    "import pandas as pd\n",
    "\n",
    "# geospatial data manipulation/visualization\n",
    "import geopandas as gpd\n",
    "import plotly.express as px\n",
    "\n",
    "# advanced graph visualization\n",
    "import seaborn as sns\n",
    "import matplotlib.pyplot as plt\n",
    "\n",
    "# To ignore warnings\n",
    "import warnings\n",
    "warnings.filterwarnings('ignore')"
   ]
  },
  {
   "cell_type": "markdown",
   "id": "d6463136",
   "metadata": {},
   "source": [
    "### Assessing Gentrification"
   ]
  },
  {
   "cell_type": "markdown",
   "id": "dec9f199",
   "metadata": {},
   "source": [
    "Before we delve into policing data, we'll attempt to define gentrification through a layering of various metrics related to housing and demographic data in the greater Los Angeles Area and their potential shifts over time. We will primarily build this foundation of gentrification through the lens of rent burden and shifts in rent prices, changes in renter-occupied household demographics, and concentration of building permit data. The potential metrics that could be utilized are various and expansive, and as our team approaches the final project, our selection of variables will organically shift and adapt as we develop a deeper understanding of gentrification."
   ]
  },
  {
   "cell_type": "markdown",
   "id": "39f98d4f",
   "metadata": {},
   "source": [
    "#### Demographic Shifts in Renter-occupied Households"
   ]
  },
  {
   "cell_type": "code",
   "execution_count": null,
   "id": "e9fa0d9a",
   "metadata": {},
   "outputs": [],
   "source": [
    "df_race_2021\n",
    "df_race_2017"
   ]
  },
  {
   "cell_type": "markdown",
   "id": "a3a5c27c",
   "metadata": {},
   "source": [
    "#### Rent Burden and Rent Price Shifts"
   ]
  },
  {
   "cell_type": "markdown",
   "id": "cb42468f",
   "metadata": {},
   "source": [
    "Rent burden is defined broadly by the percentage of renter-occupied households who pay 30% or more of household income toward rent. This indicator will help inform the degree to which particular households are able to absorb forces of gentrification and which are susceptible. Minor cleaning was done prior to bringing in this data."
   ]
  },
  {
   "cell_type": "code",
   "execution_count": null,
   "id": "89ed80b7",
   "metadata": {},
   "outputs": [],
   "source": [
    "# import rent burden csv file\n",
    "df_rent_burden = pd.read_csv('rent_burden_race_2021.csv', dtype = {'Geo_FIPS':str})\n",
    "# fips column does not have a leading zero, let's add that here\n",
    "df_rent_burden['Geo_FIPS'] = df_rent_burden['Geo_FIPS'].str.zfill(11)\n",
    "# inspect rent burden data frame\n",
    "df_rent_burden.head()"
   ]
  },
  {
   "cell_type": "code",
   "execution_count": null,
   "id": "03a4259d",
   "metadata": {
    "scrolled": true
   },
   "outputs": [],
   "source": [
    "df_rent_burden.info()"
   ]
  },
  {
   "cell_type": "code",
   "execution_count": null,
   "id": "dbc7ae5c",
   "metadata": {
    "scrolled": true
   },
   "outputs": [],
   "source": [
    "df_rent_burden.describe()"
   ]
  },
  {
   "cell_type": "markdown",
   "id": "1128c0b7",
   "metadata": {},
   "source": [
    "It is likely where rent burden values are 0, the census tract has a total population of 0. Let's investigate what accounts for the remaining 20 observations where rent burden is 0 but the total population is a non-zero value."
   ]
  },
  {
   "cell_type": "code",
   "execution_count": null,
   "id": "a3218892",
   "metadata": {},
   "outputs": [],
   "source": [
    "# isolate observations where rent burden is 0 but total_pop has a non-zero value.\n",
    "df_rent_burden[(df_rent_burden['rent_burden'] == 0) & (df_rent_burden['total_pop'] != 0)]"
   ]
  },
  {
   "cell_type": "code",
   "execution_count": null,
   "id": "3cd05fcf",
   "metadata": {
    "scrolled": true
   },
   "outputs": [],
   "source": [
    "sns.boxplot(df_rent_burden, x='rent_burden')"
   ]
  },
  {
   "cell_type": "markdown",
   "id": "8d69a5fb",
   "metadata": {},
   "source": [
    "#### Building Permit"
   ]
  },
  {
   "cell_type": "code",
   "execution_count": null,
   "id": "b030140e",
   "metadata": {},
   "outputs": [],
   "source": [
    "df_2021 = pd.read_csv('rent_burden_ct_1.csv')"
   ]
  },
  {
   "cell_type": "code",
   "execution_count": null,
   "id": "910b8222",
   "metadata": {},
   "outputs": [],
   "source": [
    "df_2021 = "
   ]
  },
  {
   "cell_type": "code",
   "execution_count": null,
   "id": "ec8432ca",
   "metadata": {},
   "outputs": [],
   "source": [
    "df_gentrification_2021 = pd.read_csv('2021_gentrification.csv', dtype = {'fips':str})\n",
    "df_gentrification_2017 = pd.read_csv('2017_gentrification.csv', dtype = {'fips':str})"
   ]
  },
  {
   "cell_type": "code",
   "execution_count": null,
   "id": "60f879d1",
   "metadata": {},
   "outputs": [],
   "source": [
    "df_gentrification=df_gentrification_2021.merge(df_gentrification_2017,on=\"fips\")"
   ]
  },
  {
   "cell_type": "code",
   "execution_count": null,
   "id": "c94be8b0",
   "metadata": {
    "scrolled": true
   },
   "outputs": [],
   "source": [
    "df_gentrification = df_gentrification[df_gentrification['income_2021'] != 0]\n",
    "df_gentrification = df_gentrification[df_gentrification['income_2017'] != 0]\n",
    "df_gentrification = df_gentrification[df_gentrification['rent_2021'] != 0]\n",
    "df_gentrification = df_gentrification[df_gentrification['rent_2017'] != 0]\n",
    "df_gentrification"
   ]
  },
  {
   "cell_type": "code",
   "execution_count": null,
   "id": "667ecd67",
   "metadata": {},
   "outputs": [],
   "source": [
    "df_gentrification['gentrification'] = df_gentrification.income_rent_ratio_2021-df_gentrification.income_rent_ratio_2017\n",
    "df_gentrification"
   ]
  },
  {
   "cell_type": "code",
   "execution_count": null,
   "id": "96fed6f9",
   "metadata": {},
   "outputs": [],
   "source": [
    "df_gentrification['fips'] = '0' + df_gentrification['fips']\n",
    "df_gentrification"
   ]
  },
  {
   "cell_type": "code",
   "execution_count": null,
   "id": "0e502283",
   "metadata": {},
   "outputs": [],
   "source": [
    "tracts = tracts[['geometry', 'fips']]\n",
    "tracts"
   ]
  },
  {
   "cell_type": "code",
   "execution_count": null,
   "id": "552361f7",
   "metadata": {},
   "outputs": [],
   "source": [
    "gdf_gentrification =df_gentrification.merge(tracts,on=\"fips\")\n",
    "gdf_gentrification"
   ]
  },
  {
   "cell_type": "code",
   "execution_count": null,
   "id": "4ba71b89",
   "metadata": {},
   "outputs": [],
   "source": [
    "gdf_gentrification.gentrification.describe()"
   ]
  },
  {
   "cell_type": "code",
   "execution_count": null,
   "id": "6e8000f9",
   "metadata": {},
   "outputs": [],
   "source": [
    "gdf_gentrification = gpd.GeoDataFrame(gdf_gentrification, \n",
    "                       geometry='geometry')"
   ]
  },
  {
   "cell_type": "code",
   "execution_count": null,
   "id": "f3e5b8cf",
   "metadata": {},
   "outputs": [],
   "source": [
    "fig = px.choropleth_mapbox(gdf_gentrification, geojson=gdf_gentrification.geometry, locations=gdf_gentrification.index, color='gentrification',\n",
    "                           color_continuous_scale=\"viridis\",\n",
    "                           range_color=(-.6, .7),\n",
    "                           mapbox_style=\"carto-positron\",\n",
    "                           zoom=8, center = {\"lat\": 34.14218, \"lon\": -118.28411},\n",
    "                           opacity=0.5)\n",
    "fig.show()"
   ]
  },
  {
   "cell_type": "code",
   "execution_count": null,
   "id": "01046a88",
   "metadata": {},
   "outputs": [],
   "source": []
  },
  {
   "cell_type": "code",
   "execution_count": null,
   "id": "0a760ce1",
   "metadata": {},
   "outputs": [],
   "source": []
  },
  {
   "cell_type": "code",
   "execution_count": null,
   "id": "b8f0cb31-7ee6-49ab-948b-a5075337ee11",
   "metadata": {
    "scrolled": true
   },
   "outputs": [],
   "source": [
    "df_arrest = pd.read_csv('Arrest_Data_from_2020_to_Present.csv')\n",
    "df_arrest.head()"
   ]
  },
  {
   "cell_type": "code",
   "execution_count": null,
   "id": "4b06a24a-3926-4a0e-8fd4-a87f69cc786b",
   "metadata": {},
   "outputs": [],
   "source": [
    "df_arrest.info()"
   ]
  },
  {
   "cell_type": "code",
   "execution_count": null,
   "id": "0b13ef0f-41dd-4c6e-9d7a-82a81c62bfb1",
   "metadata": {},
   "outputs": [],
   "source": [
    "df_arrest = df_arrest[df_arrest['Charge Description'].notna()]"
   ]
  },
  {
   "cell_type": "code",
   "execution_count": null,
   "id": "e4c6ec82-51b3-4994-b2c8-7d6d09bd6d46",
   "metadata": {},
   "outputs": [],
   "source": [
    "df_arrest['Charge Group Description'].value_counts()"
   ]
  },
  {
   "cell_type": "code",
   "execution_count": null,
   "id": "60957d4e-919c-4a8c-9fe5-48c7f0366458",
   "metadata": {},
   "outputs": [],
   "source": [
    "pd.set_option('display.max_columns', 500)\n",
    "df_arrest[df_arrest['Charge Group Description'] == 'Miscellaneous Other Violations'].value_counts('Charge Description')                          "
   ]
  },
  {
   "cell_type": "code",
   "execution_count": null,
   "id": "eaaa389b-7ab9-47f4-9178-d6923aa375ee",
   "metadata": {},
   "outputs": [],
   "source": [
    "df_arrest_property = df_arrest[(df_arrest['Charge Description'] == 'REFUSE TO LEAVE PROPERTY UPON REQUEST P.O.') | \n",
    "                               (df_arrest['Charge Description'] == 'REFUSE TO LEAVE PROPERTY UPON REQST OWNER') | \n",
    "                               (df_arrest['Charge Description'] == 'TRESPASSING LANDS UNDER CULTIVATION')]"
   ]
  },
  {
   "cell_type": "code",
   "execution_count": null,
   "id": "1f5ca5ba-9557-4ced-af90-c8abfbe44f6a",
   "metadata": {},
   "outputs": [],
   "source": [
    "df_arrest_property.shape"
   ]
  },
  {
   "cell_type": "code",
   "execution_count": null,
   "id": "68dc32ad-b25d-424a-90d3-fa57fcb85ca0",
   "metadata": {},
   "outputs": [],
   "source": [
    "# lets visualize the dataframe spatially by converting it to a geodataframe\n",
    "gdf_arrest_property = gpd.GeoDataFrame(df_arrest_property, \n",
    "                       geometry=gpd.points_from_xy(df_arrest_property['LON'], df_arrest_property['LAT']))"
   ]
  },
  {
   "cell_type": "code",
   "execution_count": null,
   "id": "d1c4c0f0-5829-4445-aa2c-2b60bd17ed21",
   "metadata": {},
   "outputs": [],
   "source": [
    "gdf_arrest_property = gdf_arrest_property[gdf_arrest_property['LON'] != 0]\n",
    "gdf_arrest_property.plot(figsize = (20,20), markersize = 1)"
   ]
  },
  {
   "cell_type": "code",
   "execution_count": null,
   "id": "faeba392-a661-4b15-83ea-09b673374a2f",
   "metadata": {
    "tags": []
   },
   "outputs": [],
   "source": [
    "# re-import rent burden csv file but this time with Geo_FIPS as a string\n",
    "df = pd.read_csv('rent_burden_ct_1.csv', dtype = {'Geo_FIPS':str})\n",
    "# fips column does not have a leading zero, let's add that here\n",
    "df['Geo_FIPS'] = df['Geo_FIPS'].str.zfill(11)\n",
    "# import census tract spatial data\n",
    "tracts=gpd.read_file('Census_Tracts_2020.geojson')\n",
    "# create FIPS column\n",
    "tracts['fips'] ='06' + '037' + tracts['CT20']\n",
    "tracts = tracts[['geometry','fips']]\n",
    "# rename column\n",
    "df = df.rename({'Geo_FIPS': 'fips'}, axis=1)\n",
    "# create a new dataframe based on the join\n",
    "df_tracts=tracts.merge(df,on=\"fips\")"
   ]
  },
  {
   "cell_type": "code",
   "execution_count": null,
   "id": "58065c6a-ae1e-4bfa-90c0-ac0738e217ea",
   "metadata": {},
   "outputs": [],
   "source": [
    "df_tracts"
   ]
  },
  {
   "cell_type": "code",
   "execution_count": null,
   "id": "d9d79c71-5dfc-422d-82da-71e084aade9e",
   "metadata": {},
   "outputs": [],
   "source": [
    "df_neighborhoods"
   ]
  },
  {
   "cell_type": "code",
   "execution_count": null,
   "id": "e4759637",
   "metadata": {},
   "outputs": [],
   "source": [
    "# spatial join to place census tracts into a neighborhood \n",
    "df = gpd.sjoin(gdf_arrest_property, df_tracts)"
   ]
  },
  {
   "cell_type": "code",
   "execution_count": null,
   "id": "8d6c18da-f3fe-4af1-bfed-681962d91d66",
   "metadata": {},
   "outputs": [],
   "source": [
    "df.plot(markersize=2)"
   ]
  },
  {
   "cell_type": "code",
   "execution_count": null,
   "id": "4f7ccf5e-f5cb-4875-94fa-e54a786a812b",
   "metadata": {},
   "outputs": [],
   "source": [
    "import plotly.express as px"
   ]
  },
  {
   "cell_type": "code",
   "execution_count": null,
   "id": "4e483059-13e0-43e4-8199-9b94bcfd069d",
   "metadata": {},
   "outputs": [],
   "source": [
    "?update_layout"
   ]
  },
  {
   "cell_type": "code",
   "execution_count": null,
   "id": "c96e53e4-178b-4db9-b374-0e2d07b8b648",
   "metadata": {},
   "outputs": [],
   "source": [
    "# plot using plotly.express with color indicating housing type and size indicating funding amount\n",
    "fig = px.scatter_mapbox(df,\n",
    "                        lat='LAT',\n",
    "                        lon='LON',\n",
    "                        mapbox_style=\"carto-positron\",\n",
    "                        color = 'rent_burden')\n",
    "\n",
    "# options on the layout\n",
    "fig.update_layout(\n",
    "    width = 1200,\n",
    "    height = 800,\n",
    "    title = \"Interactive Map of Affordable Housing\",\n",
    "    title_x=0.5, # aligns title to center\n",
    ") \n",
    "\n",
    "fig.show()\n"
   ]
  },
  {
   "cell_type": "code",
   "execution_count": null,
   "id": "8499c527-68b2-4bb1-8264-e072de77cc81",
   "metadata": {},
   "outputs": [],
   "source": [
    "C:\\Users\\18189\\Desktop\\Grad School\\221\\Group Project# create function that creates assesses the renter population by race then assigns that row with one of the major race categories\n",
    "def categorise_race_tracts(row):  \n",
    "    if row['black_alone'] > row['white_alone'] and row['black_alone'] > row['hispanic'] and row['black_alone'] > row['other'] and row['black_alone'] > row['asian_alone']:\n",
    "        return 'Black'\n",
    "    elif row['hispanic'] > row['white_alone'] and row['hispanic'] > row['black_alone'] and row['hispanic'] > row['other'] and row['hispanic'] > row['asian_alone']:\n",
    "        return 'Hispanic'\n",
    "    elif row['white_alone'] > row['hispanic'] and row['white_alone'] > row['black_alone'] and row['white_alone'] > row['other'] and row['white_alone'] > row['asian_alone']:\n",
    "        return 'White'\n",
    "    elif row['asian_alone'] > row['hispanic'] and row['asian_alone'] > row['black_alone'] and row['asian_alone'] > row['other'] and row['black_alone'] > row['white_alone']:\n",
    "        return 'Asian'\n",
    "    return 'Other'"
   ]
  },
  {
   "cell_type": "code",
   "execution_count": null,
   "id": "ada01441-075d-4604-9f89-e504af69fa70",
   "metadata": {
    "tags": []
   },
   "outputs": [],
   "source": [
    "# iterate on dataframe and create new column by applying created race function\n",
    "df_tracts['majority_race'] = df_tracts.apply(lambda row: categorise_race_tracts(row), axis=1)\n",
    "# assess results\n",
    "df_tracts.value_counts('majority_race')"
   ]
  },
  {
   "cell_type": "code",
   "execution_count": null,
   "id": "1550dd44-0eb6-47c2-906f-6ff8a35253cb",
   "metadata": {},
   "outputs": [],
   "source": [
    "gdf = gpd.read_file('Census_Tracts_2020.geojson')"
   ]
  },
  {
   "cell_type": "code",
   "execution_count": null,
   "id": "19117196",
   "metadata": {},
   "outputs": [],
   "source": [
    "gdf"
   ]
  },
  {
   "cell_type": "code",
   "execution_count": null,
   "id": "9545a59f",
   "metadata": {},
   "outputs": [],
   "source": [
    "gdf.plot()"
   ]
  },
  {
   "cell_type": "code",
   "execution_count": null,
   "id": "f2a7c5b8",
   "metadata": {},
   "outputs": [],
   "source": []
  }
 ],
 "metadata": {
  "kernelspec": {
   "display_name": "Python 3 (ipykernel)",
   "language": "python",
   "name": "python3"
  },
  "language_info": {
   "codemirror_mode": {
    "name": "ipython",
    "version": 3
   },
   "file_extension": ".py",
   "mimetype": "text/x-python",
   "name": "python",
   "nbconvert_exporter": "python",
   "pygments_lexer": "ipython3",
   "version": "3.9.12"
  }
 },
 "nbformat": 4,
 "nbformat_minor": 5
}
