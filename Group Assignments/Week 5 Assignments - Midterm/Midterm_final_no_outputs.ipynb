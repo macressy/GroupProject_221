{
 "cells": [
  {
   "cell_type": "markdown",
   "id": "6b186556-d6f6-4f59-8feb-549d105eebed",
   "metadata": {},
   "source": [
    "## Week 5 Assignment - Midterm\n",
    "### Race as Vulnerability: The Relationship between Policing and Gentrification\n",
    "#### John Parks, Joshua Claxton and Miles Cressy\n",
    "\n",
    "The aim for this midterm is to demonstrate our progress in assessing the relationship between policing and gentrification. We will do so by first exploring various metrics that help contribute to or inform the process of gentrification. Although there are numerous definitions of gentrification, we have strived to build a rough framework to define gentrification as the displacement of minority communities as a result of development forces. To demonstrate this working definition, we will delve into demographic shifts of renter-occupied households, development patterns through filing of building permits, and rent price changes and rent burden percentages by race. These metrics may change as we progress toward our final project but we hope the evaluation of these metrics get us closer to laying the foundation of our understanding of gentrification.\n",
    "\n",
    "Following the groundwork we lay for evaluating gentrification, we will dive into various forms of policing data and evaluate the relationship between policing and communities that are susceptible to gentrifying forces.  \n",
    "\n",
    "__________________________________________________________________________________________________________________________________________________________________________________________________"
   ]
  },
  {
   "cell_type": "markdown",
   "id": "e81ada73-75d0-4123-a410-e238bfe680e4",
   "metadata": {},
   "source": [
    "Import various packages for data manipulation/cleaning and visualization."
   ]
  },
  {
   "cell_type": "code",
   "execution_count": null,
   "id": "00f80dd5-59be-47b8-a786-3f6e881615d1",
   "metadata": {},
   "outputs": [],
   "source": [
    "# standard data manipulation\n",
    "import pandas as pd\n",
    "import numpy as np\n",
    "# geospatial data manipulation/visualization\n",
    "import geopandas as gpd\n",
    "import plotly as pl\n",
    "import plotly.express as px\n",
    "import plotly.graph_objects as go\n",
    "import libpysal as lp\n",
    "import contextily as ctx\n",
    "import json\n",
    "import seaborn as sns\n",
    "import plotly.offline as pyo\n",
    "\n",
    "# advanced graph visualization\n",
    "import seaborn as sns\n",
    "import matplotlib.pyplot as plt\n",
    "from matplotlib.ticker import LinearLocator\n",
    "\n",
    "# To ignore warnings\n",
    "import warnings\n",
    "warnings.filterwarnings('ignore')"
   ]
  },
  {
   "cell_type": "markdown",
   "id": "b30e1e5d-2b85-4775-b0a9-2dada284ccd2",
   "metadata": {
    "tags": []
   },
   "source": [
    "### Part A: Assessing Gentrification"
   ]
  },
  {
   "cell_type": "markdown",
   "id": "80e5286e-96e6-40f8-9305-b445fd34b36d",
   "metadata": {},
   "source": [
    "Before we begin to overlay policing and gentrification data, we need to develop an understanding and a way to evaluate gentrification. This is a difficult concept to precisely measure but we will attempt to do so by building off established definitions of gentrification and evaluating metrics that correlate with these definitions. For this midterm, we assess demographic shifts, building permit issuance counts and rent price shifts."
   ]
  },
  {
   "cell_type": "markdown",
   "id": "0269f76c-072a-41eb-90a5-987762a8ce3d",
   "metadata": {
    "tags": []
   },
   "source": [
    "#### A1: Demographic Shifts in Renter-occupied Households"
   ]
  },
  {
   "cell_type": "markdown",
   "id": "c5fe9974-0b70-4f36-b25e-ac4db51a582b",
   "metadata": {},
   "source": [
    "Our first step is to bring in race data from 2017 and 2021, conducting some pre-cleaning as we bring them into the notebook. These values are defined by census tracts for the entirety of LA County but we want to analyze this data within the context of neighbhorhoods within the boundary of LA city - to do this, we will bring in a LA neighborhood geojson as well."
   ]
  },
  {
   "cell_type": "code",
   "execution_count": null,
   "id": "333c07c3-4588-4691-9c2f-a667b7a4c02e",
   "metadata": {},
   "outputs": [],
   "source": [
    "# import demographic csv file data from 2017 Census, rename FIPS column for merge and add a leading zero.\n",
    "tracts_race_17 = pd.read_csv('data/race_2017.csv', dtype = {'fips':str})\n",
    "tracts_race_17.rename(columns={'fips': 'FIPS'}, inplace=True)\n",
    "tracts_race_17['FIPS'] = tracts_race_17['FIPS'].str.zfill(11)\n",
    "\n",
    "# import demographic csv file data from 2021 Census, rename some columns for merge and add a leading zero.\n",
    "tracts_race_21 = pd.read_csv('data/rent_burden_ct_1.csv',dtype = {'Geo_FIPS':str})\n",
    "tracts_race_21.rename(columns={'total_housing_units': 'total','white_alone':'white','black_alone':'black','asian_alone':'asian' }, inplace=True)\n",
    "tracts_race_21['FIPS'] = tracts_race_21['Geo_FIPS'].str.zfill(11)\n",
    "\n",
    "# import LA neighborhoods from ArcGIS\n",
    "nbh = gpd.read_file(\"https://services5.arcgis.com/7nsPwEMP38bSkCjy/arcgis/rest/services/LA_Times_Neighborhoods/FeatureServer/0/query?outFields=*&where=1%3D1&f=geojson\")"
   ]
  },
  {
   "cell_type": "code",
   "execution_count": null,
   "id": "81b4b677-2230-4f58-ae4e-480155b8b6de",
   "metadata": {},
   "outputs": [],
   "source": [
    "#check 2017 dataframe\n",
    "tracts_race_17.head()"
   ]
  },
  {
   "cell_type": "code",
   "execution_count": null,
   "id": "3bc880dc-dfa4-4d9e-8b5f-aa1ccbd8bd66",
   "metadata": {},
   "outputs": [],
   "source": [
    "#check 2021 dataframe\n",
    "tracts_race_21.head()"
   ]
  },
  {
   "cell_type": "markdown",
   "id": "45454e15-9572-4f91-b4ac-133e6617af3d",
   "metadata": {},
   "source": [
    "Our two dataframes contain census tract identifiers, along with values for each category of race for renter-occupied households. We will subset our race dataframes to only contain the major racial groups as this will simplify our analysis but keep our results and conclusions nearly the same."
   ]
  },
  {
   "cell_type": "code",
   "execution_count": null,
   "id": "b9fd48b2-3a37-4273-92ea-c38d73677925",
   "metadata": {
    "tags": []
   },
   "outputs": [],
   "source": [
    "#subset dataframes and conduct additional review\n",
    "tracts_race_17 = tracts_race_17[['FIPS','total','white','black','asian','hispanic']]\n",
    "tracts_race_21 = tracts_race_21[['FIPS','total','white','black','asian','hispanic']]"
   ]
  },
  {
   "cell_type": "code",
   "execution_count": null,
   "id": "4f75d238-5c80-49a7-9a4a-1f4a06e6b13d",
   "metadata": {},
   "outputs": [],
   "source": [
    "#review subsetted dataframe\n",
    "tracts_race_17.info()"
   ]
  },
  {
   "cell_type": "code",
   "execution_count": null,
   "id": "3acb4579-d5f0-491a-8b6e-d171de856f9a",
   "metadata": {},
   "outputs": [],
   "source": [
    "#review subsetted dataframe\n",
    "tracts_race_21.info()"
   ]
  },
  {
   "cell_type": "markdown",
   "id": "8c68e3b3-8709-4f72-80cc-7d69cfb9b567",
   "metadata": {},
   "source": [
    "It is important to note that the Census was conducted in 2020, meaning the census tract boundaries are either different or have completely changed in some cases. We wanted to ensure that we had a good historical coverage to view demographic shifts through but we are doing so at the cost of lost observations due to dissimilar census tracts."
   ]
  },
  {
   "cell_type": "code",
   "execution_count": null,
   "id": "53d654ca-0531-460c-92c2-de17f76fd61a",
   "metadata": {},
   "outputs": [],
   "source": [
    "#merge census tract dataframes from both years on FIPS, then review data\n",
    "race_merge = tracts_race_17.merge(tracts_race_21, on='FIPS',\n",
    "                                  suffixes=('_2017', '_2021'),\n",
    "                                 indicator=True)\n",
    "race_merge.describe()"
   ]
  },
  {
   "cell_type": "markdown",
   "id": "d0040a9d-c6ff-4648-9f76-9212d25532dd",
   "metadata": {},
   "source": [
    "After merging to ensure that all similar census tracts were accounted for, we will separate the dataframe by year, add a year column and then append them together in order to create a longer (rather than a wider) dataframe."
   ]
  },
  {
   "cell_type": "code",
   "execution_count": null,
   "id": "b81902ff-0087-4e76-b1d4-50e7a3b157f8",
   "metadata": {},
   "outputs": [],
   "source": [
    "# now disaggregatge to make the dataset long instead of wide to prepare for appending\n",
    "ct_21 = race_merge[['FIPS','total_2021','white_2021','black_2021', 'asian_2021', 'hispanic_2021']]\n",
    "ct_21.rename(columns={'total_2021': 'total','white_2021':'white','black_2021':\n",
    "                               'black','asian_2021':'asian','hispanic_2021':'hispanic' }, inplace=True)\n",
    "ct_17 = race_merge.drop(columns=['_merge','total_2021','white_2021','black_2021', 'asian_2021', 'hispanic_2021'])\n",
    "ct_17.rename(columns={'total_2017': 'total','white_2017':'white','black_2017':\n",
    "                               'black','asian_2017':'asian','hispanic_2017':'hispanic' }, inplace=True)"
   ]
  },
  {
   "cell_type": "code",
   "execution_count": null,
   "id": "0ed6f8a3-84ba-4d2f-8ca4-0e05d02580a7",
   "metadata": {},
   "outputs": [],
   "source": [
    "# add column for year for each demographic dataset\n",
    "ct_17['year']=2017\n",
    "ct_21['year']=2021\n",
    "# demogaphic information is ready to be appended\n",
    "ct_race=ct_17.append(ct_21)\n",
    "# 10 year census tract data for understanding of demograhic shifts, with each shared census tract having two observations (one for 2017 and one for 2021)\n",
    "ct_race.sort_values(by=['year','FIPS'])\n",
    "ct_race"
   ]
  },
  {
   "cell_type": "markdown",
   "id": "16739130-8700-4bca-9c60-390f35e4a9ce",
   "metadata": {},
   "source": [
    "Having organized our data appropriately, we will now add in geospatial information so that we can later spatially join the census tracts into the LA neighborhood geodataframe. This will entail bringing in census tract data, adjusting the columns to match our working dataframe and then a merge to join the data together."
   ]
  },
  {
   "cell_type": "code",
   "execution_count": null,
   "id": "d2b89650-99fb-4ab1-8b50-c9f868f4be3a",
   "metadata": {},
   "outputs": [],
   "source": [
    "# merge in census spatial information\n",
    "tracts=gpd.read_file('data/Census_Tracts_2020.geojson')\n",
    "# subset for only relevant information\n",
    "tracts = tracts[['CT20','geometry']]\n",
    "# create new column using CT20 column that allows us to merge on FIPS\n",
    "tracts['FIPS'] ='06' + '037' + tracts['CT20']\n",
    "# merge now that we have a shared column\n",
    "spatial_race=tracts.merge(ct_race, on='FIPS')\n",
    "# double check this worked correctly\n",
    "spatial_race.info()"
   ]
  },
  {
   "cell_type": "code",
   "execution_count": null,
   "id": "0314e1ae-6183-49f6-b7ce-828f832189b4",
   "metadata": {},
   "outputs": [],
   "source": [
    "# explore neighborhoods\n",
    "nbh.head()"
   ]
  },
  {
   "cell_type": "code",
   "execution_count": null,
   "id": "f94adea3-fcaf-4876-bcc1-150a96cdef05",
   "metadata": {},
   "outputs": [],
   "source": [
    "# check coordinate system to ensure they match on join\n",
    "nbh.crs"
   ]
  },
  {
   "cell_type": "code",
   "execution_count": null,
   "id": "a64e4f84-a6d1-4f92-995f-0bf56ca26398",
   "metadata": {},
   "outputs": [],
   "source": [
    "# prepare demographic data for spatial join with neighborhoods\n",
    "# first adjust census data to point data \n",
    "spatial_race = spatial_race.to_crs(4326)\n",
    "spatial_race['Centroid']=spatial_race.to_crs('+proj=cea').centroid.to_crs(spatial_race.crs)\n",
    "spatial_race_1 = spatial_race.to_crs(4326)\n",
    "spatial_race_1 = spatial_race_1.drop(columns=['CT20','geometry'])\n",
    "spatial_race_1.rename(columns={'Centroid': 'geometry'}, inplace=True)\n",
    "spatial_race_1.head(20)"
   ]
  },
  {
   "cell_type": "markdown",
   "id": "4945921e-8ee9-46c1-a421-7662861155cb",
   "metadata": {},
   "source": [
    "Now that the race data is cleaned and prepped, we will run a spatial join on the race data (now with census tract centroids) and the neighborhood polygon data."
   ]
  },
  {
   "cell_type": "code",
   "execution_count": null,
   "id": "baefc115-0699-4111-8a49-4977ad1f7712",
   "metadata": {},
   "outputs": [],
   "source": [
    "# spatial join\n",
    "nbh_race = nbh.sjoin(spatial_race_1, how=\"left\")\n",
    "nbh_race.sort_values(by=['FIPS','year'])\n",
    "nbh_race.head()"
   ]
  },
  {
   "cell_type": "markdown",
   "id": "af5e4b4c-c822-4319-ba9d-dbebc97707de",
   "metadata": {},
   "source": [
    "Now that we've successfully joined the dataframes, let's organize our new geodataframe, create new columns based on the metric we're interested in analyzing and then sort by those new columns."
   ]
  },
  {
   "cell_type": "code",
   "execution_count": null,
   "id": "7de28053-3fbc-4bd9-af0a-8c7e0a8f7d58",
   "metadata": {},
   "outputs": [],
   "source": [
    "# collapse by year and neighborhood\n",
    "nbhr = nbh_race.groupby(['year','name'],\n",
    "                                           as_index=False).agg(Geometry = ('geometry','first'),\n",
    "                                                               Total = ('total','sum'),\n",
    "                                                               White = ('white','sum'),\n",
    "                                                               Black = ('black','sum'),\n",
    "                                                               Asian = ('asian','sum'),\n",
    "                                                               Hispanic = ('hispanic','sum')\n",
    "                                                              )\n",
    "nbhr = nbhr.sort_values(by=['name','year'])\n",
    "nbhr.head(20)"
   ]
  },
  {
   "cell_type": "markdown",
   "id": "c0dda1b1-6c85-45f0-b92b-791bfcdae402",
   "metadata": {},
   "source": [
    "Now that our geodataframe is organized appropriately, we will generate new columns based on white and black demographic shifts. Before doing so, considering we no longer have use for our 2017 data, we will drop those rows along with any 2021 rows that have missing data. We will then generate a new column that evaluates the differential between the black and white renter population shift as a way to measure the neighborhoods experiencing the greatest change - we will sort our dataframe by this value and produce a bar chart that visualizes this."
   ]
  },
  {
   "cell_type": "code",
   "execution_count": null,
   "id": "a5c115c3-ffab-4106-bcba-2f4729cf1974",
   "metadata": {},
   "outputs": [],
   "source": [
    "# row calculations to determine % shifts in renter-occupied household demographics\n",
    "nbhr['delta_b'] = nbhr['Black'].div(nbhr.groupby('name')['Black'].shift())\n",
    "nbhr['delta_b_perc'] = nbhr['delta_b']*100\n",
    "nbhr['delta_w'] = nbhr['White'].div(nbhr.groupby('name')['White'].shift())\n",
    "nbhr['delta_w_perc'] = nbhr['delta_w']*100\n",
    "# add column which accounts for the % change in demographic shift between white and black renters \n",
    "nbhr['Percent Differential'] = nbhr.delta_w_perc - nbhr.delta_b_perc\n",
    "#check column\n",
    "nbhr"
   ]
  },
  {
   "cell_type": "code",
   "execution_count": null,
   "id": "1cc578ff-3a82-4a17-b5c3-6087b9af5248",
   "metadata": {},
   "outputs": [],
   "source": [
    "# drop 2017 values as we've already captured the difference between the two years via the 'difference' column.\n",
    "# this step is separate as we need to utilize this dataframe to subset our permit dataframe in the next exercise\n",
    "nbhr_2021 = nbhr[nbhr.year == 2021].reset_index(drop = True)\n",
    "nbhr_2021"
   ]
  },
  {
   "cell_type": "markdown",
   "id": "07ffff3b-1ebc-40ca-a03a-5b98bcdcd00c",
   "metadata": {},
   "source": [
    "Before visualizing our data, we want to isolate neighborhoods that have a relatively high population of black renters and demonstrated a net emigration of black renters. These neighborhoods will be the focus of our analysis going forward as we attempt to lay the groundwork for gentrification."
   ]
  },
  {
   "cell_type": "code",
   "execution_count": null,
   "id": "645bbd9e-8a09-44e1-8aae-be4490b84e67",
   "metadata": {},
   "outputs": [],
   "source": [
    "# drop null 2021 values\n",
    "nbhr_trim = nbhr_2021[nbhr_2021['delta_b'].notna()]\n",
    "\n",
    "# select for the black communities that are populous and where black folks have moved or been moved out in the past decade\n",
    "nbhr_trim_black = nbhr_trim[(nbhr_trim['Black']>500) & (nbhr_trim['delta_b_perc']<100)]\n",
    "nbhr_trim_black = nbhr_trim_black.sort_values('Percent Differential', ascending = False)\n",
    "nbhr_trim_black.head(20)"
   ]
  },
  {
   "cell_type": "code",
   "execution_count": null,
   "id": "2c11d770-1e03-4176-bfa8-efef04e95cfc",
   "metadata": {},
   "outputs": [],
   "source": [
    "# let's plot our findings from above via a bar graph, with the left bar indicating black renter population shift and the right bar indicating white renter population shift\n",
    "fig = go.Figure()\n",
    "\n",
    "# set visual style\n",
    "sns.set(style=\"darkgrid\")\n",
    "\n",
    "fig.add_trace(go.Bar(x=nbhr_trim_black['name'],\n",
    "                y=nbhr_trim_black['delta_b_perc'],\n",
    "                name='Black emigration',\n",
    "                marker_color='rgb(158,73,99)',\n",
    "                     opacity = .8\n",
    "                ))\n",
    "fig.add_trace(go.Bar(x=nbhr_trim_black['name'],\n",
    "                     y=nbhr_trim_black['delta_w_perc'],\n",
    "                     name='White migration',\n",
    "                marker_color='rgb(216,139,118)',\n",
    "                      opacity = .8\n",
    "                ))\n",
    "fig.add_hline(y=100, line_dash=\"dot\")\n",
    "\n",
    "fig.add_annotation(x=26, y=102.5,\n",
    "            text=\"in-out migration threshold\",\n",
    "                  showarrow = False)\n",
    "\n",
    "fig.update_layout(\n",
    "    title='Demographic shifts in LA neighborhoods, sorted by white immigration to black emigration differentials in descending order.',\n",
    "    title_y = .9,\n",
    "    xaxis_tickfont_size=12,\n",
    "    yaxis=dict(\n",
    "        title='2021 Renter-occupied population as a percent of 2017 value',\n",
    "        titlefont_size=14,\n",
    "        tickfont_size=12,\n",
    "    ),\n",
    "    legend=dict(\n",
    "        x=1,\n",
    "        y=1.0,\n",
    "        bgcolor='rgba(255, 255, 255, 0)',\n",
    "        bordercolor='rgba(255, 255, 255, 0)'\n",
    "    ),\n",
    "    barmode='group',\n",
    "    bargap=0.15, # gap between bars of adjacent location coordinates.\n",
    "    bargroupgap=0.1 ,# gap between bars of the same location coordinate.\n",
    "    \n",
    "    width=1500,\n",
    "    height=750\n",
    ")\n",
    "fig.show()\n",
    "\n",
    "fig.write_image(\"data/Demo.png\")"
   ]
  },
  {
   "cell_type": "code",
   "execution_count": null,
   "id": "8b825796-b49d-4c30-828e-469f76d23275",
   "metadata": {},
   "outputs": [],
   "source": [
    "# create chloropleth map that evaluates the differential seen between the two bars above (expanded for whole dataset rather than just black neighborhoods)\n",
    "fig = px.choropleth_mapbox(nbhr_2021, geojson=nbhr_2021.Geometry, locations=nbhr_2021.index, color='Percent Differential',\n",
    "                           mapbox_style=\"carto-positron\",\n",
    "                           range_color=(-100, 100),\n",
    "                           zoom=9.15, \n",
    "                           center = {\"lat\": 34.02, \"lon\": -118.38411},\n",
    "                           opacity=0.5,\n",
    "                           hover_name = 'name')\n",
    "\n",
    "# options on the layout\n",
    "fig.update_layout(\n",
    "    width = 1200,\n",
    "    height = 800,\n",
    "    title = \"Interactive Map of Demographic Shifts, from 2017 to 2021 in L.A. (White Immigration vs Black Emigration)\",\n",
    "    title_y=.96,\n",
    "    title_x=0.455,\n",
    ") \n",
    "\n",
    "fig.show()"
   ]
  },
  {
   "cell_type": "markdown",
   "id": "9e65cc51-7049-4b87-bef8-2ba3151ec202",
   "metadata": {},
   "source": [
    "Remarks:\n",
    "- We've created and sorted our dataset to reflect demographic shifts, particularly in white and black renter-occupied households. We defined some paramaters to try and slowly wittle down and isolate black neighbhorhoods that are showing demonstrating the ramifications of gentrification.\n",
    "- We will need to explore and iterate on our approach to see if there are better methods to defining meaningful population shifts (i.e. historical data, renter-population by proportions rather than absolute values, etc.)\n",
    "- We are missing some key neighborhoods as a result of unaligned census tract data - we will want to revisit this going forward to remedy this.\n",
    "________________________________________________________________________________________________________________________________________________________________________________________________________________"
   ]
  },
  {
   "cell_type": "markdown",
   "id": "a484b666-e76e-477c-ba0e-47d280698623",
   "metadata": {
    "tags": []
   },
   "source": [
    "#### A2: Development - Builing Permit Issuance"
   ]
  },
  {
   "cell_type": "markdown",
   "id": "207b661a-812a-4d80-9b11-96fbdbd3f09c",
   "metadata": {},
   "source": [
    "Now that we've assessed demographic shifts, let's begin layering/combining other metrics that help to inform a definition of gentrification. Let's take a look at building permits from LA City Data in order to assess the degree to which a neighborhood is undergoing development."
   ]
  },
  {
   "cell_type": "code",
   "execution_count": null,
   "id": "5f09a860-7443-44f6-83cd-238301884fb3",
   "metadata": {},
   "outputs": [],
   "source": [
    "# load in csv\n",
    "df_permit = pd.read_csv('data/Building_Permits_clean')\n",
    "# we don't need this column right now - we'll drop for the time being\n",
    "df_permit = df_permit.drop(columns = '# of Residential Dwelling Units')\n",
    "df_permit.info()"
   ]
  },
  {
   "cell_type": "code",
   "execution_count": null,
   "id": "edee89c2-a684-4ff9-8bbf-99b2e0293141",
   "metadata": {},
   "outputs": [],
   "source": [
    "# check size of dataframe\n",
    "df_permit.shape"
   ]
  },
  {
   "cell_type": "markdown",
   "id": "4b25909d-aa38-446d-903d-f0fcef4e3a29",
   "metadata": {},
   "source": [
    "This is a very large file, we will need to subset in order to manage it size. Let's start by removing null values so we can trim it down."
   ]
  },
  {
   "cell_type": "code",
   "execution_count": null,
   "id": "3352a134-e623-4132-a25a-1da67afafd49",
   "metadata": {},
   "outputs": [],
   "source": [
    "# view # of missing values\n",
    "print(df_permit['Latitude/Longitude'].isna().sum())\n",
    "print(df_permit['Census Tract'].isna().sum())"
   ]
  },
  {
   "cell_type": "code",
   "execution_count": null,
   "id": "c8b96aa2-467b-4303-a216-5aa8c36d2696",
   "metadata": {},
   "outputs": [],
   "source": [
    "# drop missing values and re-check to see if we successfully dropped\n",
    "df_permit = df_permit[df_permit['Latitude/Longitude'].isna() != True]\n",
    "df_permit = df_permit[df_permit['Census Tract'].isna() != True]\n",
    "print(df_permit['Latitude/Longitude'].isna().sum())\n",
    "print(df_permit['Census Tract'].isna().sum())"
   ]
  },
  {
   "cell_type": "code",
   "execution_count": null,
   "id": "09fb2fd4-0b40-44cd-96e3-2fb9c2b15bc2",
   "metadata": {},
   "outputs": [],
   "source": [
    "# we need to parse out the lat/long values into a format that geopandas can join on, we'll split the column 'Latitude/Longitude' into 'lat' and 'long' and convert to numeric\n",
    "# split column, then adding new columns with split results\n",
    "df_permit[['lat', 'long']] = df_permit['Latitude/Longitude'].str.split(', ', expand=True)\n",
    "# remove unnessary characters\n",
    "df_permit[\"lat\"]=df_permit[\"lat\"].str.replace('(','')\n",
    "df_permit[\"long\"]=df_permit[\"long\"].str.replace(')','')\n",
    "# convert string to numeric\n",
    "df_permit['lat'] = pd.to_numeric(df_permit['lat'])\n",
    "df_permit['long'] = pd.to_numeric(df_permit['long'])\n",
    "# drop unused column\n",
    "df_permit = df_permit.drop(columns = ['Latitude/Longitude'])\n",
    "df_permit.head()"
   ]
  },
  {
   "cell_type": "markdown",
   "id": "45d9eb0f-4d42-4f5a-8c16-f80b33b44dd4",
   "metadata": {},
   "source": [
    "We're almost there but now we need to convert the date column to datetime so we can easily filter that dataframe by year. We will then convert these new dataframes to geodataframes so that we can join this data with the LA neighborhood boundaries."
   ]
  },
  {
   "cell_type": "code",
   "execution_count": null,
   "id": "a1db5617-1d31-4458-9100-3037d49e8647",
   "metadata": {},
   "outputs": [],
   "source": [
    "# convert column to datetime, then subset dataframe into two separate based on year the permit was issued (2021 vs 2017)\n",
    "df_permit['Issue Date'] = pd.to_datetime(df_permit['Issue Date'])\n",
    "df_permit_2021 = df_permit[(df_permit['Issue Date'] > '2021-01-01') & (df_permit['Issue Date'] < '2022-01-01')]\n",
    "df_permit_2017 = df_permit[(df_permit['Issue Date'] > '2017-01-01') & (df_permit['Issue Date'] < '2018-01-01')]"
   ]
  },
  {
   "cell_type": "code",
   "execution_count": null,
   "id": "7caf4bff-386b-4cf7-bc05-5fb9a42d6efb",
   "metadata": {},
   "outputs": [],
   "source": [
    "# convert dataframes into geodataframes\n",
    "gdf_permit_2021 = gpd.GeoDataFrame(df_permit_2021,\n",
    "                         crs='epsg:4326',\n",
    "                       geometry=gpd.points_from_xy(df_permit_2021['long'], df_permit_2021['lat']))\n",
    "\n",
    "gdf_permit_2017 = gpd.GeoDataFrame(df_permit_2017,\n",
    "                         crs='epsg:4326',\n",
    "                       geometry=gpd.points_from_xy(df_permit_2017['long'], df_permit_2017['lat']))"
   ]
  },
  {
   "cell_type": "markdown",
   "id": "f647c70a-28f2-4d17-96bc-738fbc6ff9e7",
   "metadata": {},
   "source": [
    "Considering that one site can have a multitude of permits issued, we will drop duplicates based on lat/long so that we are not counting the same development more than once. Once we've done so, we can then spatially join with the neighborhood boundaries."
   ]
  },
  {
   "cell_type": "code",
   "execution_count": null,
   "id": "44631ede-5ea4-449c-b75d-4b8fc6caae5a",
   "metadata": {},
   "outputs": [],
   "source": [
    "# drop duplicates from both dataframes and evaluate how many rows were dropped as a result\n",
    "print('# of 2021 sites before dropping duplicates:', gdf_permit_2021.shape[0])\n",
    "gdf_permit_2021 = gdf_permit_2021.drop_duplicates(subset='geometry')\n",
    "print('# of 2021 sites after dropping duplicates:', gdf_permit_2021.shape[0])\n",
    "\n",
    "print('# of 2017 sites before dropping duplicates:', gdf_permit_2017.shape[0])\n",
    "gdf_permit_2017 = gdf_permit_2017.drop_duplicates(subset='geometry')\n",
    "print('# of 2017 sites after dropping duplicates:', gdf_permit_2017.shape[0])"
   ]
  },
  {
   "cell_type": "markdown",
   "id": "bf5b16b2-e54b-4d47-b4f0-930023553a37",
   "metadata": {},
   "source": [
    "Quick pause before we spatially join with neighborhood data - let's see what this look like as raw point data."
   ]
  },
  {
   "cell_type": "code",
   "execution_count": null,
   "id": "e0ca7d59-66b9-431e-bd8a-fa0ef4784e37",
   "metadata": {},
   "outputs": [],
   "source": [
    "# plot using plotly.express with color indicating permit type\n",
    "fig = px.scatter_mapbox(gdf_permit_2021,\n",
    "                        lat=gdf_permit_2021.geometry.y,\n",
    "                        lon=gdf_permit_2021.geometry.x,\n",
    "                        mapbox_style=\"carto-positron\",\n",
    "                        color = 'Permit Sub-Type',\n",
    "                        opacity = .6,\n",
    "                        zoom=9.15, \n",
    "                        center = {\"lat\": 34.02, \"lon\": -118.38411},)\n",
    "\n",
    "# options on the layout\n",
    "fig.update_layout(\n",
    "    width = 1000,\n",
    "    height = 800,\n",
    "    title = \"Interactive Map of Permit Issuances for 2021 by Permit Type\",\n",
    "    title_x=0.5 # aligns title to center\n",
    ") \n",
    "\n",
    "fig.show()"
   ]
  },
  {
   "cell_type": "code",
   "execution_count": null,
   "id": "9ad46bb6-8392-4272-97f6-dc14453f6248",
   "metadata": {},
   "outputs": [],
   "source": [
    "# spatial join on dataframes created above and neighborhood geodataframe\n",
    "neighborhoods_permits_2021 = gpd.sjoin(nbh, gdf_permit_2021)\n",
    "neighborhoods_permits_2017 = gpd.sjoin(nbh, gdf_permit_2017)"
   ]
  },
  {
   "cell_type": "code",
   "execution_count": null,
   "id": "a902fa24-60c5-4d3d-9853-2f749ce50642",
   "metadata": {},
   "outputs": [],
   "source": [
    "# drop unused columns\n",
    "neighborhoods_permits_2021 = neighborhoods_permits_2021.drop(columns = ['index_right', 'Issue Date','lat','long','Census Tract'])\n",
    "neighborhoods_permits_2017 = neighborhoods_permits_2017.drop(columns = ['index_right', 'Issue Date','lat','long','Census Tract'])"
   ]
  },
  {
   "cell_type": "code",
   "execution_count": null,
   "id": "9280af48-f0e2-4e94-8e4f-5e3452fea06c",
   "metadata": {},
   "outputs": [],
   "source": [
    "# inspect dataframe\n",
    "neighborhoods_permits_2021"
   ]
  },
  {
   "cell_type": "markdown",
   "id": "e50b0175-1cc5-4f5a-b15e-bf9858d6a879",
   "metadata": {},
   "source": [
    "Let's take a quick look at the values for each neighborhood by permit type as this represents how we want to structure and organize our dataframes."
   ]
  },
  {
   "cell_type": "code",
   "execution_count": null,
   "id": "7ec55f3f-5888-4374-849e-8ef8249e596e",
   "metadata": {},
   "outputs": [],
   "source": [
    "# view breakdown by name, by permit type and their counts\n",
    "neighborhoods_permits_2021.groupby(['name','Permit Sub-Type']).size()"
   ]
  },
  {
   "cell_type": "code",
   "execution_count": null,
   "id": "4314adb0-1878-40fb-8865-221dbd8544ea",
   "metadata": {},
   "outputs": [],
   "source": [
    "# view breakdown by name, by permit type and their counts\n",
    "neighborhoods_permits_2017.groupby(['name','Permit Sub-Type']).size()"
   ]
  },
  {
   "cell_type": "markdown",
   "id": "5fd407ef-6fad-4918-b609-2ce3bbd03460",
   "metadata": {},
   "source": [
    "We now have two dataframes with each row indicating a development, by neighborhood, by type. We now want to reduce the number of rows to the number of neighborhoods in LA City, with a count representing the total number of permits for each category represented by a column. We will do this by getting dummies for each permit type, summing their values for each neighborhood and then dropping duplicates."
   ]
  },
  {
   "cell_type": "code",
   "execution_count": null,
   "id": "0b833e4d-8559-4a55-9ed2-d2c3a50ef63d",
   "metadata": {},
   "outputs": [],
   "source": [
    "# make dataframes wider by getting dummies for permit type\n",
    "neighborhoods_permits_2021 = pd.get_dummies(neighborhoods_permits_2021, columns=['Permit Sub-Type'])\n",
    "neighborhoods_permits_2017 = pd.get_dummies(neighborhoods_permits_2017, columns=['Permit Sub-Type'])\n",
    "# the last four permit types are a small fraction of the total permit counts, to simplify our analysis, we will drop these columns.\n",
    "neighborhoods_permits_2021 = neighborhoods_permits_2021.drop(columns = ['Permit Sub-Type_Offsite', 'Permit Sub-Type_Onsite', 'Permit Sub-Type_Public Safety Only', 'Permit Sub-Type_Special Equipment'])\n",
    "neighborhoods_permits_2017 = neighborhoods_permits_2017.drop(columns = ['Permit Sub-Type_Offsite', 'Permit Sub-Type_Onsite', 'Permit Sub-Type_Public Safety Only', 'Permit Sub-Type_Special Equipment'])\n",
    "# rename columns\n",
    "neighborhoods_permits_2021 = neighborhoods_permits_2021.rename(columns={\"Permit Sub-Type_1 or 2 Family Dwelling\": \"sfh\",\"Permit Sub-Type_Apartment\":\"apt\",\"Permit Sub-Type_Commercial\":\"com\"})\n",
    "neighborhoods_permits_2017 = neighborhoods_permits_2017.rename(columns={\"Permit Sub-Type_1 or 2 Family Dwelling\": \"sfh\",\"Permit Sub-Type_Apartment\":\"apt\",\"Permit Sub-Type_Commercial\":\"com\"})"
   ]
  },
  {
   "cell_type": "code",
   "execution_count": null,
   "id": "dc4b0f07-f411-48f7-a9fa-4d2b9f4549bd",
   "metadata": {},
   "outputs": [],
   "source": [
    "# check dataframe to confirm\n",
    "neighborhoods_permits_2021"
   ]
  },
  {
   "cell_type": "code",
   "execution_count": null,
   "id": "e66ca65e-8e73-49c1-b975-abb8f59d1bda",
   "metadata": {},
   "outputs": [],
   "source": [
    "# sum total count of permits by neighborhood and then drop duplicates\n",
    "# 2021 dataframe\n",
    "neighborhoods_permits_2021['sfh'] = neighborhoods_permits_2021.groupby(\"name\", sort=False)[\"sfh\"].transform('sum')\n",
    "neighborhoods_permits_2021['apt'] = neighborhoods_permits_2021.groupby(\"name\", sort=False)[\"apt\"].transform('sum')\n",
    "neighborhoods_permits_2021['com'] = neighborhoods_permits_2021.groupby(\"name\", sort=False)[\"com\"].transform('sum')\n",
    "neighborhoods_permits_2021 = neighborhoods_permits_2021.drop_duplicates()\n",
    "\n",
    "# 2017 dataframe\n",
    "neighborhoods_permits_2017['sfh'] = neighborhoods_permits_2017.groupby(\"name\", sort=False)[\"sfh\"].transform('sum')\n",
    "neighborhoods_permits_2017['apt'] = neighborhoods_permits_2017.groupby(\"name\", sort=False)[\"apt\"].transform('sum')\n",
    "neighborhoods_permits_2017['com'] = neighborhoods_permits_2017.groupby(\"name\", sort=False)[\"com\"].transform('sum')\n",
    "neighborhoods_permits_2017 = neighborhoods_permits_2017.drop_duplicates()"
   ]
  },
  {
   "cell_type": "code",
   "execution_count": null,
   "id": "33ea37c9-8d58-43c0-b006-7669bda64ac9",
   "metadata": {},
   "outputs": [],
   "source": [
    "neighborhoods_permits_2021"
   ]
  },
  {
   "cell_type": "code",
   "execution_count": null,
   "id": "89a32d92-8b19-48bc-ac2e-36f2780a3dfa",
   "metadata": {},
   "outputs": [],
   "source": [
    "# create total permit column for each year\n",
    "# 2021 dataframe\n",
    "neighborhoods_permits_2021['total'] = neighborhoods_permits_2021['sfh'] + neighborhoods_permits_2021['apt'] + neighborhoods_permits_2021['com']\n",
    "# 2017 dataframe\n",
    "neighborhoods_permits_2017['total'] = neighborhoods_permits_2017['sfh'] + neighborhoods_permits_2017['apt'] + neighborhoods_permits_2017['com']"
   ]
  },
  {
   "cell_type": "markdown",
   "id": "cd30d3a4-3ad1-43ea-92d0-737f00af4000",
   "metadata": {},
   "source": [
    "We now have two dataframes with permit counts for two separate years that coincide with the LA neighborhoods that we want to analyze. With this completed, we will merge the dataframes and generate a new column with the % change in permit count to derive a proxy value that roughly indicates the growth in development across LA cities. "
   ]
  },
  {
   "cell_type": "code",
   "execution_count": null,
   "id": "3279efe0-6982-4b65-9786-0004eee72183",
   "metadata": {},
   "outputs": [],
   "source": [
    "# merge dataframes so that we have one dataframe containing one row for each neighborhood and permit issuance counts for each year and permit type\n",
    "neighborhoods_permits_combined = neighborhoods_permits_2021.merge(neighborhoods_permits_2017,suffixes=('_2021', '_2017'),on=\"name\")\n",
    "# subset dataframe to only contain useful columns\n",
    "neighborhoods_permits_combined = neighborhoods_permits_combined[['name','geometry_2021','sfh_2021','apt_2021','com_2021','total_2021','sfh_2017','apt_2017','com_2017','total_2017']]\n",
    "# rename geometry column\n",
    "neighborhoods_permits_combined = neighborhoods_permits_combined.rename(columns={'geometry_2021':'geometry'})\n",
    "# generate new column to account for permit change over time\n",
    "neighborhoods_permits_combined['Permit Number Percent Change'] = (neighborhoods_permits_combined.total_2021/neighborhoods_permits_combined.total_2017)*100\n",
    "# sort by name\n",
    "neighborhoods_permits_combined = neighborhoods_permits_combined.sort_values('name')\n",
    "# view dataframe\n",
    "neighborhoods_permits_combined"
   ]
  },
  {
   "cell_type": "markdown",
   "id": "1640fd90-1739-4e86-bf58-7bedbef12f11",
   "metadata": {},
   "source": [
    "To build off our previous exercise of evaluating demographic shifts, we will bring in the value that we created which assessed the % difference in white immigration vs black emigration. We will use this value to sort our analysis as we've already begun to define potential neighborhoods that may likely to experience the ill-effects of gentrification. We will do this by first adding this column onto our permit dataframe, followed by subsetting the dataframe with the neighborhoods that we had isolated previously."
   ]
  },
  {
   "cell_type": "code",
   "execution_count": null,
   "id": "4ee60f76-d912-442a-940a-762370bc4193",
   "metadata": {},
   "outputs": [],
   "source": [
    "# add demographic shift values in order to sort our visualization\n",
    "neighborhoods_permits_combined['Percent Differential'] = nbhr_2021['Percent Differential'].values\n",
    "# reset index so we can subset our permit dataframe on the final demographic shift dataframe created in the previous exercise\n",
    "neighborhoods_permits_combined = neighborhoods_permits_combined.reset_index(drop=True)\n",
    "neighborhoods_permits_combined"
   ]
  },
  {
   "cell_type": "code",
   "execution_count": null,
   "id": "b2b47fd0-aa7a-4a6e-b437-75b3fb8557f5",
   "metadata": {},
   "outputs": [],
   "source": [
    "# subset dataframe our permit dataframe on the dataframe created in the previous exercise\n",
    "neighborhoods_permits_combined_black = neighborhoods_permits_combined[neighborhoods_permits_combined.index.isin(nbhr_trim_black.index)]\n",
    "# sort by demographic shift value\n",
    "neighborhoods_permits_combined_black = neighborhoods_permits_combined_black.sort_values('Percent Differential', ascending = False)\n",
    "neighborhoods_permits_combined_black.head(5)"
   ]
  },
  {
   "cell_type": "code",
   "execution_count": null,
   "id": "27287c2d-3b09-4c00-9f85-c3288dde8a52",
   "metadata": {},
   "outputs": [],
   "source": [
    "# let's plot our findings from above via a bar graph with neighborhoods on the x-axis, with the left bar indicating 2017 building permit numbers and the right bar indicating 2021 building permit numbers\n",
    "fig = go.Figure()\n",
    "\n",
    "fig.add_trace(go.Bar(x=neighborhoods_permits_combined_black['name'],\n",
    "                y=neighborhoods_permits_combined_black['total_2017'],\n",
    "                name='2017 Permit Count',\n",
    "                marker_color='rgb(158,73,99)',\n",
    "                     opacity = .8\n",
    "                ))\n",
    "fig.add_trace(go.Bar(x=neighborhoods_permits_combined_black['name'],\n",
    "                y=neighborhoods_permits_combined_black['total_2021'],\n",
    "                name='2021 Permit Count',\n",
    "                marker_color='rgb(216,139,118)',\n",
    "                     opacity = .8\n",
    "                ))\n",
    "\n",
    "fig.update_layout(\n",
    "    title='Build Permit Issued: 2017 vs 2021, neighborhoods ordered in descending order by black vs white shift differential percentages.',\n",
    "    title_y = .9,\n",
    "    xaxis_tickfont_size=12,\n",
    "    yaxis=dict(\n",
    "        title='Number of Building Permits Issued',\n",
    "        titlefont_size=14,\n",
    "        tickfont_size=12,\n",
    "    ),\n",
    "    legend=dict(\n",
    "        x=1,\n",
    "        y=1.0,\n",
    "        bgcolor='rgba(255, 255, 255, 0)',\n",
    "        bordercolor='rgba(255, 255, 255, 0)'\n",
    "    ),\n",
    "    barmode='group',\n",
    "    bargap=0.15, # gap between bars of adjacent location coordinates.\n",
    "    bargroupgap=0.1 ,# gap between bars of the same location coordinate.\n",
    "    \n",
    "    width=1500,\n",
    "    height=750\n",
    ")\n",
    "fig.show()\n",
    "\n",
    "fig.write_image(\"data/Permit.png\")"
   ]
  },
  {
   "cell_type": "markdown",
   "id": "154f36ec-1569-4bb6-b00d-d08218fe96ac",
   "metadata": {},
   "source": [
    "Now that we have visualized the absolute values of permit issuances for the two years, let's take a look at how these values have changed overtime via a choropleth map with the color indicating the percent change between the two years."
   ]
  },
  {
   "cell_type": "code",
   "execution_count": null,
   "id": "fdb2262a-20e0-4a38-a14d-aee09a37e223",
   "metadata": {
    "tags": []
   },
   "outputs": [],
   "source": [
    "# geodataframe got converted back to normal dataframe during merging process, re-doing this step to create map plot\n",
    "neighborhoods_permits_combined = gpd.GeoDataFrame(neighborhoods_permits_combined,\n",
    "                         crs='epsg:4326',\n",
    "                       geometry=neighborhoods_permits_combined.geometry)\n",
    "neighborhoods_permits_combined.info()"
   ]
  },
  {
   "cell_type": "code",
   "execution_count": null,
   "id": "3e6b5687-b19d-4b31-b171-3e699c9f3c98",
   "metadata": {},
   "outputs": [],
   "source": [
    "# create chloropleth map that evaluates the differential seen between the two bars above (expanded for whole dataset rather than just black neighborhoods)\n",
    "fig = px.choropleth_mapbox(neighborhoods_permits_combined, geojson=neighborhoods_permits_combined.geometry, locations=neighborhoods_permits_combined.index, color='Permit Number Percent Change',\n",
    "                           mapbox_style=\"carto-positron\",\n",
    "                           range_color=(50, 150),\n",
    "                           zoom=9.15, \n",
    "                           center = {\"lat\": 34.02, \"lon\": -118.38411},\n",
    "                           opacity=0.5,\n",
    "                           hover_name = 'name')\n",
    "\n",
    "# options on the layout\n",
    "fig.update_layout(\n",
    "    width = 1200,\n",
    "    height = 800,\n",
    "    title = \"Interactive Map of Permit Count Percent Changes, from 2017 to 2021 in Los Angeles\",\n",
    "    title_y=.96,\n",
    "    title_x=0.43,\n",
    ") \n",
    "\n",
    "fig.show()"
   ]
  },
  {
   "cell_type": "markdown",
   "id": "2619ffaf-231e-433b-9815-56c75314f7df",
   "metadata": {},
   "source": [
    "Remarks:\n",
    "- We've successfully developed a better understanding of development patterns by neighborhood from the 2017 to 2021, with a particular focus on the black neighborhoods we isolated in the previous step.\n",
    "- Some interesting findings is that of the top neighborhoods with the largest demographic shift, the overall building permit issuance counts are relatively low (e.g. Adams-Normandie, Jefferson Park, Exposition Park, etc.). This may be caused by the fact that these neighborhoods are relatively small and any percent changes in demographic shifts would be weighted heavily. This is not necessarily incorrect or a negative outcome but something to keep in mind going forward. We will want to make sure the manner in which we classify neighborhoods is resilient to being misproportionately weighted.\n",
    "- It would be interesting to visualize the differences in permit types and see if anything can be gleaned from that type of development that is occuring in these areas. This difference would be nuanced but could be important in our analysis going forward.\n",
    "________________________________________________________________________________________________________________________________________________________________________________________________________________"
   ]
  },
  {
   "cell_type": "markdown",
   "id": "72fff98c-ca6f-4309-9c49-5294aac65a7b",
   "metadata": {
    "tags": []
   },
   "source": [
    "#### A3: Rent Price Shifts"
   ]
  },
  {
   "cell_type": "markdown",
   "id": "ff826d9f-eed9-45ac-8225-b2678b72d0dc",
   "metadata": {},
   "source": [
    "The final variable we will assess is the change in rent price values from 2017 to 2021 (5 year averages). We will essentially mirror the process conducted in the previous exercise by merging census tract level data with our neighborhood boundaries. This will help us develop a better understanding of if and to what degree minority neighborhoods are in the process of or at risk of being priced out of their community. "
   ]
  },
  {
   "cell_type": "code",
   "execution_count": null,
   "id": "2676b5d4-59e9-4010-8823-f57b6334d747",
   "metadata": {},
   "outputs": [],
   "source": [
    "# bring in 2017 rent data\n",
    "df_rent_2017 = pd.read_csv('data/rent_2017.csv', dtype = {'FIPS':str})\n",
    "# bring in 2021 rent data\n",
    "df_rent_2021 = pd.read_csv('data/rent_2021.csv', dtype = {'FIPS':str})\n",
    "\n",
    "# add leading zeroes\n",
    "df_rent_2017['FIPS'] = df_rent_2017['FIPS'].str.zfill(11)\n",
    "df_rent_2021['FIPS'] = df_rent_2017['FIPS'].str.zfill(11)"
   ]
  },
  {
   "cell_type": "markdown",
   "id": "7b3a984e-8390-4df8-a681-abd319833b01",
   "metadata": {},
   "source": [
    "Merging, checking for null values, dropping if need be, and taking a glimpse at the data."
   ]
  },
  {
   "cell_type": "code",
   "execution_count": null,
   "id": "226ddb0d-0b18-48e5-93d4-8280b56f8293",
   "metadata": {},
   "outputs": [],
   "source": [
    "# merge data \n",
    "df_rent=df_rent_2021.merge(df_rent_2017,on=\"FIPS\")\n",
    "# check for na values\n",
    "df_rent.isna().sum()"
   ]
  },
  {
   "cell_type": "code",
   "execution_count": null,
   "id": "be3757b8-1540-40a7-996b-d53e9c134af8",
   "metadata": {},
   "outputs": [],
   "source": [
    "# drop na values and re-check\n",
    "df_rent = df_rent.dropna()\n",
    "df_rent.isna().sum()"
   ]
  },
  {
   "cell_type": "code",
   "execution_count": null,
   "id": "1d32614a-be8c-4a91-ba6a-ed9b3a0a1547",
   "metadata": {},
   "outputs": [],
   "source": [
    "# assess rent statistics\n",
    "df_rent.describe()"
   ]
  },
  {
   "cell_type": "markdown",
   "id": "9b6086af-1f75-4442-be89-d2eb07395dd0",
   "metadata": {},
   "source": [
    "We have our rent dataframe correctly organized by census tract but we will want to merge it with our dataframe that contains spatial information so that we can ultimately locate the census tracts within our neighborhoods."
   ]
  },
  {
   "cell_type": "code",
   "execution_count": null,
   "id": "55a0ac24-50d5-4968-8f60-1c7ed8651560",
   "metadata": {},
   "outputs": [],
   "source": [
    "# merge dataframes together\n",
    "spatial_rent=tracts.merge(df_rent, on='FIPS')\n",
    "# check if successful\n",
    "spatial_rent"
   ]
  },
  {
   "cell_type": "markdown",
   "id": "9e66b80a-2c28-464e-b9e4-cc4f0aed37f9",
   "metadata": {},
   "source": [
    "Prepare our new dataframe which contains geospatial census tract information by creating a centroid for the census boundaries. Then run a spatial join and check if successful."
   ]
  },
  {
   "cell_type": "code",
   "execution_count": null,
   "id": "3fc09019-9ce1-42cd-8474-b850e9caa0c4",
   "metadata": {},
   "outputs": [],
   "source": [
    "# prepare demographic data for spatial join with neighborhoods\n",
    "# first adjust census data to point data \n",
    "spatial_rent = spatial_rent.to_crs(4326)\n",
    "spatial_rent['Centroid']=spatial_rent.to_crs('+proj=cea').centroid.to_crs(spatial_rent.crs)\n",
    "spatial_rent_1 = spatial_rent.to_crs(4326)\n",
    "spatial_rent_1 = spatial_rent.drop(columns=['CT20','geometry'])\n",
    "spatial_rent_1.rename(columns={'Centroid': 'geometry'}, inplace=True)\n",
    "spatial_rent_1"
   ]
  },
  {
   "cell_type": "code",
   "execution_count": null,
   "id": "ad76c222-e94b-4283-96ec-c65cd352ee13",
   "metadata": {},
   "outputs": [],
   "source": [
    "# spatial join\n",
    "nbh_rent = nbh.sjoin(spatial_rent_1, how=\"left\")\n",
    "nbh_rent = nbh_rent.drop(columns = ['OBJECTID','index_right','FIPS'])\n",
    "nbh_rent"
   ]
  },
  {
   "cell_type": "markdown",
   "id": "33be04ae-3c6c-497b-8f5a-92bbd5a263de",
   "metadata": {},
   "source": [
    "We now have located our census tract level data into our neighborhood boundaries but we have lost a considerable amount of information along the way. In order to reduce our geodataframe to neighborhood level, we will need to average rent values for both years by neighborhood name. We will then trim down our dataframe to capture just neighborhood-level data. Finally we will generate a new column that is the difference between the two averages. "
   ]
  },
  {
   "cell_type": "code",
   "execution_count": null,
   "id": "e7925627-b4af-4048-9ed2-20cdac34dbc7",
   "metadata": {},
   "outputs": [],
   "source": [
    "# average rent values for each year by neighborhood and generate columns with new values\n",
    "nbh_rent['rent_21_mean'] = nbh_rent.groupby(\"name\", sort=False)[\"rent_2021\"].transform('mean')\n",
    "nbh_rent['rent_17_mean'] = nbh_rent.groupby(\"name\", sort=False)[\"rent_2017\"].transform('mean')\n",
    "# drop unused columns\n",
    "nbh_rent = nbh_rent.drop(columns = ['rent_2021','rent_2017'])\n",
    "# drop duplicate rows\n",
    "nbh_rent = nbh_rent.drop_duplicates()\n",
    "# add column which calculates the % change from the two timeframes for each census tract\n",
    "nbh_rent['Rent Price Percent Change'] = (nbh_rent.rent_21_mean/nbh_rent.rent_17_mean)*100\n",
    "nbh_rent = nbh_rent.sort_values('name').reset_index()\n",
    "# check if successful\n",
    "nbh_rent"
   ]
  },
  {
   "cell_type": "markdown",
   "id": "6eee92b2-537d-4f8c-a9bf-47e3c7dc817d",
   "metadata": {},
   "source": [
    "Lastly we will add the Percent Differential used in the first exercise to help sort our visualizations (as we did previously) and then we will subset our data based on the neighborhoods we originally isolated."
   ]
  },
  {
   "cell_type": "code",
   "execution_count": null,
   "id": "65dff231-b7a7-4728-8237-fbe5d1f63fa8",
   "metadata": {},
   "outputs": [],
   "source": [
    "# add Percent Differential from first exercise \n",
    "nbh_rent['Percent Differential'] = nbhr_2021['Percent Differential'].values\n",
    "# subset dataframe our permit dataframe on the dataframe created in the first exercise\n",
    "nbh_rent_black = nbh_rent[nbh_rent.index.isin(nbhr_trim_black.index)]\n",
    "# sort by demographic shift value\n",
    "nbh_rent_black = nbh_rent_black.sort_values('Percent Differential', ascending = False)\n",
    "nbh_rent_black"
   ]
  },
  {
   "cell_type": "markdown",
   "id": "6eb8fbf6-8de8-44c6-98d1-7b1c7416a1a8",
   "metadata": {},
   "source": [
    "We are now ready to plot our create dataframe/geodataframe above."
   ]
  },
  {
   "cell_type": "code",
   "execution_count": null,
   "id": "866da280-6135-45f2-b0fc-53a373bfbb3e",
   "metadata": {},
   "outputs": [],
   "source": [
    "# let's plot our findings from above via a bar graph with neighborhoods on the x-axis,\n",
    "# with the left bar indicating 2017 average rent prices and the right bar indicating 2021 average rent pricees\n",
    "fig = go.Figure()\n",
    "\n",
    "fig.add_trace(go.Bar(x=nbh_rent_black['name'],\n",
    "                y=nbh_rent_black['rent_17_mean'],\n",
    "                name='2017 Average Rent Price',\n",
    "                marker_color='rgb(158,73,99)',\n",
    "                     opacity = .8\n",
    "                ))\n",
    "fig.add_trace(go.Bar(x=nbh_rent_black['name'],\n",
    "                y=nbh_rent_black['rent_21_mean'],\n",
    "                name='2021 Average Rent Price',\n",
    "                marker_color='rgb(216,139,118)',\n",
    "                     opacity = .8\n",
    "                ))\n",
    "\n",
    "fig.update_layout(\n",
    "    title='Average Rent Prices: 2017 vs 2021, neighborhoods ordered in descending order by black vs white shift differential percentages.',\n",
    "    title_y = .9,\n",
    "    xaxis_tickfont_size=12,\n",
    "    yaxis=dict(\n",
    "        title='Average Rent Prices, in dollars',\n",
    "        titlefont_size=14,\n",
    "        tickfont_size=12,\n",
    "    ),\n",
    "    legend=dict(\n",
    "        x=1,\n",
    "        y=1.0,\n",
    "        bgcolor='rgba(255, 255, 255, 0)',\n",
    "        bordercolor='rgba(255, 255, 255, 0)'\n",
    "    ),\n",
    "    barmode='group',\n",
    "    bargap=0.15, # gap between bars of adjacent location coordinates.\n",
    "    bargroupgap=0.1 ,# gap between bars of the same location coordinate.\n",
    "    \n",
    "    width=1500,\n",
    "    height=750\n",
    ")\n",
    "fig.show()\n",
    "\n",
    "fig.write_image(\"data/Rent.png\")"
   ]
  },
  {
   "cell_type": "code",
   "execution_count": null,
   "id": "2571b055-39ad-496e-9961-7ed16b843c2b",
   "metadata": {},
   "outputs": [],
   "source": [
    "# create chloropleth map that evaluates the differential seen between the two bars above (expanded for whole dataset rather than just black neighborhoods)\n",
    "fig = px.choropleth_mapbox(nbh_rent, geojson=nbh_rent.geometry, locations=nbh_rent.index, color='Rent Price Percent Change',\n",
    "                           mapbox_style=\"carto-positron\",\n",
    "                           #range_color=(50, 150),\n",
    "                           zoom=9.15, \n",
    "                           center = {\"lat\": 34.02, \"lon\": -118.38411},\n",
    "                           opacity=0.5,\n",
    "                           hover_name = 'name')\n",
    "\n",
    "# options on the layout\n",
    "fig.update_layout(\n",
    "    width = 1200,\n",
    "    height = 800,\n",
    "    title = \"Interactive Map of Rent Price Percent Changes, from 2017 to 2021 in Los Angeles\",\n",
    "    title_y=.96,\n",
    "    title_x=0.43,\n",
    ") \n",
    "\n",
    "fig.show()"
   ]
  },
  {
   "cell_type": "markdown",
   "id": "b000e9eb-99a8-46a2-b93c-9bebd49c24e2",
   "metadata": {},
   "source": [
    "Remarks:\n",
    "- We've successfully developed a better understanding of rent price shifts by neighborhood from the 2017 to 2021, with a particular focus on the black neighborhoods we isolated in the previous step.\n",
    "- Some interesting findings is that of the top neighborhoods (that we previously sorted) do reflect a large percentage change in rent values, further indicating that these areas are undergoing/susceptible to gentrification. \n",
    "- Average rent prices from census level data is not a perfect measure for understanding how a renter might be priced out of their communities. Taking into account how new developments are pricing their units (or a similar metric) would provide a better understanding of gentrifying forces. For the time being, average rent price suffices.\n",
    "________________________________________________________________________________________________________________________________________________________________________________________________________________\n"
   ]
  },
  {
   "cell_type": "markdown",
   "id": "d778f491-54c2-4545-ac3e-c720efe566eb",
   "metadata": {
    "tags": []
   },
   "source": [
    "#### A3.I: Rent Price Shifts | Why does this matter?"
   ]
  },
  {
   "cell_type": "markdown",
   "id": "9ea37047-c677-486a-a25f-3ad0cfa18dce",
   "metadata": {},
   "source": [
    "To build off some previous assignments and to provide a foundation as to why rent price matters, particularly as it relates to the disproportionate effect on minority communities, rent burden across ethnicity groups is analyzed below. We will pull census data that captures the percentage of renter-households in a census-tract that pay more than 30% of their income toward rent (30% is the HUD defined threshold). We will categorize this by race and demonstrate the effects on non-white communities."
   ]
  },
  {
   "cell_type": "markdown",
   "id": "e7f25399-8436-425e-ba44-15d84e438b16",
   "metadata": {},
   "source": [
    "Pull in census data and add leading zeroes."
   ]
  },
  {
   "cell_type": "code",
   "execution_count": null,
   "id": "705659d9-6d71-46a8-9ec7-8ae76258d30b",
   "metadata": {},
   "outputs": [],
   "source": [
    "# import rent burden csv file\n",
    "df_rent_burden = pd.read_csv('data/rent_burden_ct_1.csv', dtype = {'Geo_FIPS':str})\n",
    "# fips column does not have a leading zero, let's add that here\n",
    "df_rent_burden['Geo_FIPS'] = df_rent_burden['Geo_FIPS'].str.zfill(11)\n",
    "# inspect rent burden data frame\n",
    "df_rent_burden.head()"
   ]
  },
  {
   "cell_type": "markdown",
   "id": "7c33cbce-fa58-449d-a847-11edf706ea5b",
   "metadata": {},
   "source": [
    "In order to determine the majority race of the population, we will create a function that evaluates the renter population by race against one another and then returns the race that is predominant. We will add a column which captures this return with each census tract categorized by race."
   ]
  },
  {
   "cell_type": "code",
   "execution_count": null,
   "id": "bce881d0-8e39-4d6e-b6be-6dddb360230d",
   "metadata": {},
   "outputs": [],
   "source": [
    "def categorise_race_tracts(row):  \n",
    "    if row['black_alone'] > row['white_alone'] and row['black_alone'] > row['hispanic'] and row['black_alone'] > row['other'] and row['black_alone'] > row['asian_alone']:\n",
    "        return 'Black'\n",
    "    elif row['hispanic'] > row['white_alone'] and row['hispanic'] > row['black_alone'] and row['hispanic'] > row['other'] and row['hispanic'] > row['asian_alone']:\n",
    "        return 'Hispanic'\n",
    "    elif row['white_alone'] > row['hispanic'] and row['white_alone'] > row['black_alone'] and row['white_alone'] > row['other'] and row['white_alone'] > row['asian_alone']:\n",
    "        return 'White'\n",
    "    elif row['asian_alone'] > row['hispanic'] and row['asian_alone'] > row['black_alone'] and row['asian_alone'] > row['other'] and row['black_alone'] > row['white_alone']:\n",
    "        return 'Asian'\n",
    "    return 'Other'\n",
    "\n",
    "# iterate on dataframe and create new column by applying created race function\n",
    "df_rent_burden['majority_race'] = df_rent_burden.apply(lambda row: categorise_race_tracts(row), axis=1)\n",
    "# assess results\n",
    "df_rent_burden.value_counts('majority_race')"
   ]
  },
  {
   "cell_type": "code",
   "execution_count": null,
   "id": "66c3ac6a-a225-4fb1-b080-a17bfbe6908f",
   "metadata": {},
   "outputs": [],
   "source": [
    "#check dataframe\n",
    "df_rent_burden"
   ]
  },
  {
   "cell_type": "markdown",
   "id": "8cf5213a-24a9-4b0a-bbb3-0251b24388db",
   "metadata": {},
   "source": [
    "We now have a dataframe that roughly captures race across census districts. Let's separate by the major race categories in Los Angeles County and evaluate the degree to which they suffer from rent burden. "
   ]
  },
  {
   "cell_type": "code",
   "execution_count": null,
   "id": "f67a48fd-33b9-47fa-b4bf-6f054655834f",
   "metadata": {},
   "outputs": [],
   "source": [
    "# separate dataframes by race\n",
    "df_rent_burden_white = df_rent_burden[df_rent_burden.majority_race == 'White']\n",
    "df_rent_burden_black = df_rent_burden[df_rent_burden.majority_race == 'Black']\n",
    "df_rent_burden_hispanic = df_rent_burden[df_rent_burden.majority_race == 'Hispanic']"
   ]
  },
  {
   "cell_type": "code",
   "execution_count": null,
   "id": "51d8df0d-d63f-427b-9037-ddc8f8c88883",
   "metadata": {},
   "outputs": [],
   "source": [
    "#lets take a look at the correlation between the race of renter-occupied households and the percentages of rent burden for the census tract\n",
    "\n",
    "# set subplots\n",
    "fig, axes = plt.subplots(2, 3, figsize = (20, 12))\n",
    "\n",
    "# set visual style\n",
    "sns.set(style=\"darkgrid\")\n",
    "\n",
    "# create histogram plots\n",
    "histplot_white = sns.histplot(ax = axes[0,0], data=df_rent_burden_white, x='rent_burden', alpha = .5, bins =30, color = [158/255,73/255,99/255], kde = True)\n",
    "histplot_black = sns.histplot(ax = axes[0,1], data=df_rent_burden_black, x='rent_burden', alpha = .5, bins =30, color = [216/255,139/255,118/255],kde = True)\n",
    "histplot_hispanic = sns.histplot(ax = axes[0,2], data=df_rent_burden_hispanic, x='rent_burden', alpha = .5, bins =30, color = [80/255,45/255,93/255], kde = True)\n",
    "\n",
    "# create regression plots\n",
    "scatter_white = sns.regplot(ax = axes[1,0], data=df_rent_burden, x= 'rent_burden', y= 'white_alone', scatter_kws={\"color\": [158/255,73/255,99/255], \"s\": 4, \"alpha\" : .3 }, line_kws={'linewidth':1,'alpha':.6, \"color\": [158/255,73/255,99/255]})\n",
    "scatter_black = sns.regplot(ax = axes[1,1], data=df_rent_burden, x= 'rent_burden', y= 'black_alone', scatter_kws={\"color\": [216/255,139/255,118/255], \"s\": 4, \"alpha\" : .3}, line_kws={'linewidth':1,'alpha':1, \"color\": [222/255,170/255,137/255]})\n",
    "scatter_hispanic = sns.regplot(ax = axes[1,2], data=df_rent_burden, x= 'rent_burden', y= 'hispanic', scatter_kws={\"color\": [80/255,45/255,93/255], \"s\": 4, \"alpha\" : .3}, line_kws={'linewidth':1,'alpha':1, \"color\": [80/255,45/255,93/255]})\n",
    "\n",
    "# change x-axis and y-axis labels\n",
    "axes[1,0].set_xlabel('Rent Burden by White-Renter Households', fontsize = 14)\n",
    "axes[1,1].set_xlabel('Rent Burden by Black-Renter Households', fontsize = 14)\n",
    "axes[1,2].set_xlabel('Rent Burden by Hispanic-Renter Households', fontsize = 14)\n",
    "\n",
    "axes[1,0].set_ylabel('Count')\n",
    "axes[1,1].set_ylabel(' ')\n",
    "axes[1,2].set_ylabel(' ')\n",
    "\n",
    "axes[0,0].set(xlabel=' ', ylabel = 'Density')\n",
    "axes[0,1].set(xlabel=' ', ylabel = ' ')\n",
    "axes[0,2].set(xlabel=' ', ylabel = ' ')\n",
    "\n",
    "#align x-axis and y-axis grid lines for histogram plots\n",
    "histplot_white.xaxis.set_major_locator(LinearLocator(6))\n",
    "histplot_black.xaxis.set_major_locator(LinearLocator(6)) \n",
    "histplot_hispanic.xaxis.set_major_locator(LinearLocator(6)) \n",
    "histplot_white.yaxis.set_major_locator(LinearLocator(6))\n",
    "histplot_black.yaxis.set_major_locator(LinearLocator(6)) \n",
    "histplot_hispanic.yaxis.set_major_locator(LinearLocator(6))\n",
    "\n",
    "#align x-axis and y-axis grid lines for scatter plots\n",
    "scatter_white.xaxis.set_major_locator(LinearLocator(6))\n",
    "scatter_black.xaxis.set_major_locator(LinearLocator(6)) \n",
    "scatter_hispanic.xaxis.set_major_locator(LinearLocator(6)) \n",
    "scatter_white.yaxis.set_major_locator(LinearLocator(6))\n",
    "scatter_black.yaxis.set_major_locator(LinearLocator(6)) \n",
    "scatter_hispanic.yaxis.set_major_locator(LinearLocator(6))\n",
    "\n",
    "# change x-axis and y-axis tick labels for histogram plots\n",
    "histplot_white.set_xticklabels(labels = [' ', '20%', '40% ', '60% ', '80%', '100%'], fontsize = 10, y=.02)\n",
    "histplot_black.set_xticklabels(labels = [' ', '20%', '40% ', '60% ', '80%', '100%'], fontsize = 10, y=.02)\n",
    "histplot_hispanic.set_xticklabels(labels = [' ', '20%', '40% ', '60% ', '80%', '100%'], fontsize = 10, y=.02)\n",
    "scatter_white.set_xticklabels(labels = [' ', '20%', '40% ', '60% ', '80%', '100%'], fontsize = 10, y=.02)\n",
    "scatter_black.set_xticklabels(labels = [' ', '20%', '40% ', '60% ', '80%', '100%'], fontsize = 10, y=.02)\n",
    "scatter_hispanic.set_xticklabels(labels = [' ', '20%', '40% ', '60% ', '80%', '100%'], fontsize = 10, y=.02)\n",
    "\n",
    "histplot_white.set_yticklabels(labels = [' ', '20', '40', '60', '80', '100'], fontsize = 10, y=.02)\n",
    "histplot_black.set_yticklabels(labels = [' ', '3', '6', '9', '12', '15'], fontsize = 10, y=.02)\n",
    "histplot_hispanic.set_yticklabels(labels = [' ', '20', '40', '60', '80', '100'], fontsize = 10, y=.02)\n",
    "scatter_white.set_yticklabels(labels = [' ', '700', '1400', '2100', '2800', '3500'], fontsize = 10, y=.02)\n",
    "scatter_black.set_yticklabels(labels = [' ', '250', '500', '750', '1000', '1250'], fontsize = 10, y=.02)\n",
    "scatter_hispanic.set_yticklabels(labels = [' ', '275', '550', '825', '1100', '1375'], fontsize = 10, y=.02)\n",
    "\n",
    "# add mean vertical line and text for histogram plots\n",
    "histplot_white.axvline(x = df_rent_burden_white.rent_burden.mean(), linewidth = 2, alpha = .8, ls = '--', lw = 1.5, color = [158/255,73/255,99/255])\n",
    "histplot_white.text(x = df_rent_burden_white.rent_burden.mean() - .35,\n",
    "        y = 97, \n",
    "        s = 'Mean: 50% ---------- ', \n",
    "        color = [158/255,73/255,99/255],\n",
    "        weight = 'normal', \n",
    "        fontsize = 11)\n",
    "\n",
    "\n",
    "histplot_black.axvline(x = df_rent_burden_black.rent_burden.mean(), linewidth = 2, alpha = .8, ls = '--', lw = 1.5, color = [216/255,139/255,118/255])\n",
    "histplot_black.text(x = df_rent_burden_black.rent_burden.mean() - .31,\n",
    "        y = 14.05, \n",
    "        s = 'Mean: 56% ---------- ', \n",
    "        color = [216/255,139/255,118/255],\n",
    "        weight = 'normal', \n",
    "        fontsize = 11)\n",
    "\n",
    "histplot_hispanic.axvline(x = df_rent_burden_hispanic.rent_burden.mean(), linewidth = 2, alpha = .8, ls = '--', lw = 1.5, color = [80/255,45/255,93/255])\n",
    "histplot_hispanic.text(x = df_rent_burden_hispanic.rent_burden.mean() - .28,\n",
    "        y = 107, \n",
    "        s = 'Mean: 56% ---------- ', \n",
    "        color = [80/255,45/255,93/255],\n",
    "        weight = 'normal', \n",
    "        fontsize = 11)\n",
    "\n",
    "# add correlation coefficent values\n",
    "scatter_white.text(x = .27,\n",
    "        y = 3700, \n",
    "        s = 'Correlation Coefficient: .03', \n",
    "        color = [158/255,73/255,99/255],\n",
    "        weight = 'normal', \n",
    "        fontsize = 11)\n",
    "\n",
    "scatter_black.text(x = .27,\n",
    "        y = 1300, \n",
    "        s = 'Correlation Coefficient: .15', \n",
    "        color = [216/255,139/255,118/255],\n",
    "        weight = 'normal', \n",
    "        fontsize = 11)\n",
    "\n",
    "scatter_hispanic.text(x = .27,\n",
    "        y = 1410, \n",
    "        s = 'Correlation Coefficient: .26', \n",
    "        color = [80/255,45/255,93/255],\n",
    "        weight = 'normal', \n",
    "        fontsize = 11)\n",
    "\n",
    "plt.savefig('data/rb.png')"
   ]
  },
  {
   "cell_type": "markdown",
   "id": "bd3cc78a-1370-4f9a-97ce-78912008fd11",
   "metadata": {
    "tags": []
   },
   "source": [
    "We have now assessed rent burden by race of renter households and we can see that white renters have essentially no correlation with rent burden while black and hispanic have much higher proportions of rent burden. When we see shifts in rent prices, particular minority communities are more susceptible to displacement and will be affected to a greater degree than white communities. "
   ]
  },
  {
   "cell_type": "markdown",
   "id": "26a89fa7-6969-4c57-b564-c0511fc834e2",
   "metadata": {
    "tags": []
   },
   "source": [
    "### Part B: Assessing Policing"
   ]
  },
  {
   "cell_type": "markdown",
   "id": "153c8646-398a-4ede-9161-995f50faeb63",
   "metadata": {},
   "source": [
    "The second component of our project is the correlation and interaction of gentrification and policing - a relationship that has not been visualized well. Before diving into the overlaying of gentrification and policing data, we will evaluate various metrics of policing data independently. This will help us develop an understanding of policing metrics and the communities that are forced to deal with its ramifications."
   ]
  },
  {
   "cell_type": "markdown",
   "id": "11e4ed63-031f-4ebc-9c75-c47fc7cf9bc6",
   "metadata": {
    "tags": []
   },
   "source": [
    "#### B1:LA Call Data - Tenant-Landlord Disputes"
   ]
  },
  {
   "cell_type": "markdown",
   "id": "5fda8791-c54c-40e2-9a0a-f448d150527a",
   "metadata": {},
   "source": [
    "Let's first take a look at call data of tenant-landlord disputes to better understand which areas of LA seem to have higher frequencies of tension between renters and their landlords. The logic hear being that if there are communities undergoing gentrifying forces, there may be more cases of tension bewteen these parties."
   ]
  },
  {
   "cell_type": "code",
   "execution_count": null,
   "id": "b6512c31-4f4e-4a36-ab42-c9b6acfa9db9",
   "metadata": {},
   "outputs": [],
   "source": [
    "# load in call data file for landlord-tenant disputes\n",
    "calls = pd.read_csv('data/LAPD_Calls_for_Service_2021.csv')"
   ]
  },
  {
   "cell_type": "code",
   "execution_count": null,
   "id": "db63ca75-5ecc-4494-9c2d-4b0eb75e5568",
   "metadata": {},
   "outputs": [],
   "source": [
    "# view information about the dataframe\n",
    "calls.info()"
   ]
  },
  {
   "cell_type": "markdown",
   "id": "b904a241-065e-4bda-8289-abc59636c4d4",
   "metadata": {},
   "source": [
    "We only need the area in which the call occurred and the total count of calls for each area. We will create a new dataframe and visualize."
   ]
  },
  {
   "cell_type": "code",
   "execution_count": null,
   "id": "3bfe3e4b-6b67-4518-b357-42beebcc9069",
   "metadata": {},
   "outputs": [],
   "source": [
    "# create new dataframe from total value counts for each area\n",
    "calls_graph = calls['Area_Occ'].value_counts()\n",
    "# reset index\n",
    "calls_graph = calls_graph.reset_index()\n",
    "# retain only useful columns\n",
    "calls_graph.columns = ['District','Calls 2021']\n",
    "# check dataframe\n",
    "calls_graph"
   ]
  },
  {
   "cell_type": "markdown",
   "id": "30ec79ae-5b8b-4b98-8867-95c0532835e3",
   "metadata": {},
   "source": [
    "We are ready to plot and visualize the cleaned and organized data."
   ]
  },
  {
   "cell_type": "code",
   "execution_count": null,
   "id": "a5d1bbb5-b8d7-4d9a-9d7f-2411be9a2652",
   "metadata": {},
   "outputs": [],
   "source": [
    "# let's plot our findings from above via a bar graph with neighborhoods on the x-axis,\n",
    "# with the left bar indicating 2017 average rent prices and the right bar indicating 2021 average rent pricees\n",
    "fig = go.Figure()\n",
    "\n",
    "fig.add_trace(go.Bar(x=calls_graph['District'],\n",
    "                y=calls_graph['Calls 2021'],\n",
    "                name='District',\n",
    "                marker_color='rgb(190,100,50)',\n",
    "                     opacity = .8\n",
    "                    ))\n",
    "\n",
    "fig.update_layout(\n",
    "    title='Calls of Tenant-Landlord Disputes by District',\n",
    "    title_y = .8,\n",
    "    xaxis_tickfont_size=12,\n",
    "    yaxis=dict(\n",
    "        title='# of calls',\n",
    "        titlefont_size=14,\n",
    "        tickfont_size=12,\n",
    "    ))\n",
    "fig.show()"
   ]
  },
  {
   "cell_type": "markdown",
   "id": "446a16e7-8e6f-4a8a-a704-2742356a14b8",
   "metadata": {},
   "source": [
    "We have charted and listed the areas with highest ocurrance of LAPD calls for service regarding Tenant/Landlord disputes.  Individual LAPD districts are listed on the X-axis while the number of calls are listed on the Y-Axis. From a policy perspective, this is extremely important as the police department's are not supposed to respond to Tenant Landlord complaints and oftentimes the police are used as a tool of displacement of existing residents. "
   ]
  },
  {
   "cell_type": "markdown",
   "id": "088ddb63-edef-4256-9b42-40bcfd2c7f9b",
   "metadata": {
    "tags": []
   },
   "source": [
    "#### B2.I: Police Score"
   ]
  },
  {
   "cell_type": "markdown",
   "id": "5892df98-0f97-425f-a6be-360c8305187a",
   "metadata": {},
   "source": [
    "The main goal of this data is to capture the differences within the police score card data across various jurisdictions. This data has summarized use of force complaints, court rulings, shootings, and funding as a means of assigning scores to each city department.  However, the actual Police Scorecard Project does not present data in comparison between departments.  "
   ]
  },
  {
   "cell_type": "code",
   "execution_count": null,
   "id": "522865c4-26ca-4952-a41f-57df9a28fd26",
   "metadata": {},
   "outputs": [],
   "source": [
    "# bring in police score data\n",
    "score = pd.read_csv('data/Score_Cities.csv')\n",
    "# sort score by values\n",
    "score = score.sort_values('Score')"
   ]
  },
  {
   "cell_type": "code",
   "execution_count": null,
   "id": "8b2486d9-1b6c-4209-8ea5-ffccdd5f2b3d",
   "metadata": {},
   "outputs": [],
   "source": [
    "# understand data stats\n",
    "score.describe().T"
   ]
  },
  {
   "cell_type": "markdown",
   "id": "ee1563b0-5531-4490-9942-2599706628be",
   "metadata": {},
   "source": [
    "Let's plot the score of the various jurisdiction, with the score on the y-axis. The scores are ranked in ascending order, where a lower score indicates a \"negative\" score and a higher score represents a \"positive\" score."
   ]
  },
  {
   "cell_type": "code",
   "execution_count": null,
   "id": "4a33d173-4954-4c32-b949-e7490cedd9f6",
   "metadata": {},
   "outputs": [],
   "source": [
    "# plot a scatter graph\n",
    "fig = px.scatter(score, x=\"Jurisdiction\", y=\"Score\", color='Score')\n",
    "# adjust graph\n",
    "fig.update_layout(\n",
    "    title='Police Score-card Ratings by LA neighborhood/city',\n",
    "    title_y = .93,\n",
    "    title_x = .08,\n",
    "    xaxis_tickfont_size=12,\n",
    "    width=1000,\n",
    "    height=450)\n",
    "\n",
    "fig.show()"
   ]
  },
  {
   "cell_type": "markdown",
   "id": "fd527d78-ba23-48d3-ba53-935115a7a23e",
   "metadata": {},
   "source": [
    "Taking a glance at the scores for each neighborhood/city in LA, there does not seem to be a significant correlation between communities of color and the rating of the police department. This would be interesting to explore going further to better understand what determines the outcome of these scores and the variables we have been assessing thus far."
   ]
  },
  {
   "cell_type": "markdown",
   "id": "7bac2cd1-e625-421a-b75b-e5ee708a8c26",
   "metadata": {
    "tags": []
   },
   "source": [
    "#### B2.II: Police Score"
   ]
  },
  {
   "cell_type": "markdown",
   "id": "b7f0166e-1c02-4c48-b90e-06c471370425",
   "metadata": {},
   "source": [
    "We will take a look at another set of policing score but from a spatial lens.This data set is slightly more nuanced than the score chart.  In this data set, the information is organized to show a score for jurisdictional areas on a map.  For example, all areas which are “Unincorporated LA County” will be patrolled by the L.A. County Sheriff’s Department.  Similarly, some cities, which are distinct entities (Lakewood, West Hollywood, Santa Clarita, and others) are patrolled by the LA County Sheriff’s department.  This data ensures the correct score, for the Police Department tasked with patrolling the city, matches the areas on the choropleth map. Due to the sheer size of the geographic and police data from both the Police Scorecard project and County Assessor, we had to create a separate csv file which listed just the names of the individual cities along with the score.  "
   ]
  },
  {
   "cell_type": "code",
   "execution_count": null,
   "id": "b9ccdfad-8d4b-40d1-b78a-4c26c17441a5",
   "metadata": {},
   "outputs": [],
   "source": [
    "# importing packages to process and visualize data\n",
    "score_boundary = pd.read_csv('data/City Boundaries with Score - 4 - Sheet1.csv')"
   ]
  },
  {
   "cell_type": "code",
   "execution_count": null,
   "id": "212a230b-54fe-403a-98b4-deec53b44af1",
   "metadata": {},
   "outputs": [],
   "source": [
    "# import boundary file to conduct spatial visualization\n",
    "boundaries = gpd.read_file('data/City_Boundaries.geojson')"
   ]
  },
  {
   "cell_type": "code",
   "execution_count": null,
   "id": "c09dc73d-d53b-4418-8e98-428ac0cc6e5f",
   "metadata": {},
   "outputs": [],
   "source": [
    "# merge dataframes into one\n",
    "score_merge = boundaries.merge(score_boundary, left_on=\"CITY_LABEL\",right_on=\"city_name\", how=\"outer\") "
   ]
  },
  {
   "cell_type": "code",
   "execution_count": null,
   "id": "b14ec3db-45c8-48c9-8ec8-7593a10a9174",
   "metadata": {},
   "outputs": [],
   "source": [
    "# check new dataframe\n",
    "score_merge.info()"
   ]
  },
  {
   "cell_type": "code",
   "execution_count": null,
   "id": "b1521a58-b8a5-4e7c-a18c-e30ae09b3126",
   "metadata": {},
   "outputs": [],
   "source": [
    "# only retain useful columns for our visualization\n",
    "score_merge=score_merge[['CITY_NAME','police_score','geometry']]\n",
    "# drop any missing values\n",
    "score_merge=score_merge.dropna()"
   ]
  },
  {
   "cell_type": "code",
   "execution_count": null,
   "id": "eb56ae8d-f06f-4aca-96ea-e04e9413fdf9",
   "metadata": {},
   "outputs": [],
   "source": [
    "## NOTE! This kept crashing our notebook, so careful when running!\n",
    "# create choropleth map based on police scores across LA cities\n",
    "fig = px.choropleth_mapbox(score_merge, geojson=score_merge.geometry, locations=score_merge.index, color='police_score',\n",
    "                           mapbox_style=\"carto-positron\",\n",
    "                           zoom=8, center = {\"lat\": 34.14218, \"lon\": -118.28411},\n",
    "                           opacity=0.5)\n",
    "# options on the layout\n",
    "fig.update_layout(\n",
    "    width = 1200,\n",
    "    height = 800,\n",
    "    title = \"Interactive Map of Police Scores across LA cities\",\n",
    "    title_y=.96,\n",
    "    title_x=0.43,\n",
    ") \n",
    "fig.show()"
   ]
  },
  {
   "cell_type": "markdown",
   "id": "1368c05e-c615-4d8c-94a7-69fa85312052",
   "metadata": {
    "tags": []
   },
   "source": [
    "### Part C: Assessing Policing and its Correlation with Gentrification "
   ]
  },
  {
   "cell_type": "markdown",
   "id": "8e0bc438-2282-436f-be6f-5a4061361ae8",
   "metadata": {},
   "source": [
    "Based on our inital attempt at a gentrification index, we sought out existing projects and research that has been done. We came across the Urban Displacement Project (UDP), a UCLA and UC Berkeley joint effort to typologize and define gentrification, cataloging its past and current occurences, as well as predicting its future sites. In this section of our exploration and analysis, we will use this research to inform a cursory attempt at integrating policing to the mapping of displacement. UDP used change in income, rent, and college educated demographics to assess gentrification."
   ]
  },
  {
   "cell_type": "markdown",
   "id": "4a446857-c45e-42ed-a42c-e9e3aaf1b4ba",
   "metadata": {
    "tags": []
   },
   "source": [
    "#### CI: Read in Files"
   ]
  },
  {
   "cell_type": "markdown",
   "id": "57560143-4077-40d1-b8a9-2195c9da8748",
   "metadata": {},
   "source": [
    "Here we will pull in data from an existing gentrification index created by the UDP team, beginning in 2016. This will allow us to test analyses and operations between displacement and policing data. We are aiming to create a similar typology through our own index, whose inputs we have started to explore in the previous section.\n",
    "\n",
    "We will also pull in arrests data from the Neighborhood for Social Change center at USC, census tracts polygons, and LA city neighborhood polygons."
   ]
  },
  {
   "cell_type": "code",
   "execution_count": null,
   "id": "b513f5b7-0d6d-4712-b0cb-ba83e5bb2dca",
   "metadata": {},
   "outputs": [],
   "source": [
    "# read in genetrification typology from Urban Displacement Project\n",
    "g_type = pd.read_csv('data/typology_LA.csv',\n",
    "                     sep =\";\",\n",
    "                     dtype = {'FIPS':str})\n",
    "## arrests from Neighborhood Data for Social Change\n",
    "arrests = pd.read_csv('data/All Years LASD LAPD Arrest Calculations.csv',\n",
    "                      dtype = {'geoid20':str}\n",
    "                     ) \n",
    "\n",
    "## census tracts from 2020\n",
    "tracts = gpd.read_file('data/Census_Tracts_2020.geojson')\n",
    "\n",
    "# import LA neighborhoods from ArcGIS\n",
    "nbh = gpd.read_file(\"https://services5.arcgis.com/7nsPwEMP38bSkCjy/arcgis/rest/services/LA_Times_Neighborhoods/FeatureServer/0/query?outFields=*&where=1%3D1&f=geojson\")"
   ]
  },
  {
   "cell_type": "markdown",
   "id": "533d0ca8-57c0-44da-b754-d151a3ce1149",
   "metadata": {},
   "source": [
    "We are aligning FIPS syntax across datasets for simple merging later. These are mostly correcting for leading zeros and data type issues."
   ]
  },
  {
   "cell_type": "code",
   "execution_count": null,
   "id": "297444f6-9faa-4d2e-a7d2-3ea101c0b0b8",
   "metadata": {},
   "outputs": [],
   "source": [
    "# Gentrification typology\n",
    "g_type['FIPS'] = g_type['FIPS'].str.zfill(11)\n",
    "\n",
    "# Arrests\n",
    "arrests.rename(columns={'geoid20': 'FIPS'}, inplace=True)\n",
    "arrests['FIPS'] = arrests['FIPS'].str.zfill(11)\n",
    "\n",
    "# merge in census spatial information\n",
    "tracts=gpd.read_file('data/Census_Tracts_2020.geojson')\n",
    "# subset for only relevant information\n",
    "tracts = tracts[['CT20','geometry']]\n",
    "# create new column using CT20 column that allows us to merge on FIPS\n",
    "tracts['FIPS'] ='06' + '037' + tracts['CT20']"
   ]
  },
  {
   "cell_type": "markdown",
   "id": "85116bcf-68d8-41f0-b674-e509e1dcd03f",
   "metadata": {
    "tags": []
   },
   "source": [
    "#### CII: Make typology map, and then merge"
   ]
  },
  {
   "cell_type": "markdown",
   "id": "c55b16d9-273d-456e-8e3d-c0768ed2544a",
   "metadata": {},
   "source": [
    "We wanted to recreate the map that UDP produced for LA. This sets the stage for how we take this information at the census level and later draw conclusions about neighborhoods at risk of gentrifying. \n",
    "\n",
    "First we merge the UDP typology by FIPS code with the census tracts. Then we select for the tracts that UDP deemed at risk of or experiencing gentrification."
   ]
  },
  {
   "cell_type": "code",
   "execution_count": null,
   "id": "1c644f94-f76e-4742-a3c4-711e0061b435",
   "metadata": {},
   "outputs": [],
   "source": [
    "## add typology to census tracts that were at risk \n",
    "ct_typo_g = tracts.merge(g_type, on='FIPS')\n",
    "ct_typo_g = ct_typo_g[(ct_typo_g['G_Typology']=='Advanced Gentrification') | \n",
    "                      (ct_typo_g['G_Typology']=='At Risk of Gentrification') | \n",
    "                      (ct_typo_g['G_Typology']=='Early/Ongoing Gentrification')]\n",
    "ct_typo_g = ct_typo_g[['FIPS','geometry']]"
   ]
  },
  {
   "cell_type": "markdown",
   "id": "d74ccdf4-ff19-4db9-80fb-6698d0606cdb",
   "metadata": {},
   "source": [
    "Choropleth Mapbox, the python toolkit enabling us to make the map, requires the polygons to be in geojson format so make that conversion and then map the typology."
   ]
  },
  {
   "cell_type": "code",
   "execution_count": null,
   "id": "ee69009b-0294-4680-8374-f6ecb1a29b27",
   "metadata": {},
   "outputs": [],
   "source": [
    "## create geojson file of typology tracts and rewrite it as dictionary to use in plotly mapbox function\n",
    "ct_typo_g.to_file('data/Gent_tracts.geojson', driver='GeoJSON')\n",
    "with open('data/Gent_tracts.geojson', 'r') as fp:\n",
    "    jdata = json.load(fp)\n",
    "## recreate unique identifier for the plotly mapbox function\n",
    "for k in range(len(jdata['features'])):\n",
    "    jdata['features'][k]['id'] = k\n",
    "    \n",
    "# Approximate gentrification typology map\n",
    "g_type_temp = g_type[(g_type['G_Typology']=='Advanced Gentrification') | \n",
    "                     (g_type['G_Typology']=='At Risk of Gentrification') | \n",
    "                     (g_type['G_Typology']=='Early/Ongoing Gentrification')]\n",
    "\n",
    "g_type_temp['Typology of Gentrification'] = g_type_temp['G_Typology'] \n",
    "fig = px.choropleth_mapbox(g_type_temp, geojson=jdata, color=\"Typology of Gentrification\",\n",
    "                           locations=g_type_temp['FIPS'], featureidkey=\"properties.FIPS\",\n",
    "                           center={\"lat\": 34.0, \"lon\": -118.2},\n",
    "                           mapbox_style=\"carto-positron\", zoom=9,\n",
    "                          opacity=.5)\n",
    "fig.update_layout(\n",
    "    width = 800,\n",
    "    height = 600,\n",
    "    title = \"Gentrification Typology by Census Tract, extracted from Urban Displacement Project\",\n",
    "    title_y=.96,\n",
    "    title_x=0.455,\n",
    ") \n",
    "\n",
    "fig.show()"
   ]
  },
  {
   "cell_type": "markdown",
   "id": "33c20149-443a-42a4-9690-083e38f319b3",
   "metadata": {},
   "source": [
    "At a quick glance, we notice the spatial concentration of gentrification in the center of the city, away from the coast and not especially inland."
   ]
  },
  {
   "cell_type": "markdown",
   "id": "ebaa730c-9d06-438d-9232-f5a469c6664a",
   "metadata": {},
   "source": [
    "----------------\n",
    "We redo the merge between census tracts and gentrification typology. Then merge that new geodataframe with the arrests. Finally, we calculate the centroid of census tracts to prepare for a spatial join with the neighborhoods. This will set us up to make a map of gentrifying neighborhoods based on the concentration of gentrifying census tracts it contains."
   ]
  },
  {
   "cell_type": "code",
   "execution_count": null,
   "id": "470ab243-7467-4126-b46b-2d05545c7885",
   "metadata": {},
   "outputs": [],
   "source": [
    "## add typology to census tracts that were at risk for merge with neighborhoods \n",
    "ct_typo = tracts.merge(g_type, on='FIPS')\n",
    "## merge arrests and census tracts\n",
    "ct_all = ct_typo.merge(arrests, on='FIPS')\n",
    "\n",
    "## get centroid of arrests in census tracts to add to neighborhoods\n",
    "ct_all = ct_all.to_crs(4326)\n",
    "ct_all['Centroid']=ct_all.to_crs('+proj=cea').centroid.to_crs(ct_all.crs)\n",
    "ct_all_1 = ct_all.to_crs(4326)\n",
    "ct_all_1 = ct_all_1.drop(columns=['geometry','geoid'])\n",
    "ct_all_1.rename(columns={'Centroid': 'geometry'}, inplace=True)\n",
    "ct_all_1.head(10)"
   ]
  },
  {
   "cell_type": "markdown",
   "id": "44f40723-e531-43dc-8d8e-d20bc4c1fe6c",
   "metadata": {
    "tags": []
   },
   "source": [
    "#### CIII: Spatial Join between the census tracts (containing gentrification typology and arrests) with the neighborhoods"
   ]
  },
  {
   "cell_type": "markdown",
   "id": "971d825f-207e-4a7c-a46c-df461a2c7cbe",
   "metadata": {},
   "source": [
    "We conduct a spatial join between the centroid of the census tracts and the neighborhoods. This applies the gentrification typology and arrests at the neighborhood level. We will summarize that information through row calculations. We will also create a varibale called \"Displacement\" that sums census tracts at risk of or experiencing gentrification within a neighborhood. This will make graphing and mapping easier."
   ]
  },
  {
   "cell_type": "code",
   "execution_count": null,
   "id": "d5d4cba3-a3d7-4ac1-94c2-6326dc90780f",
   "metadata": {},
   "outputs": [],
   "source": [
    "## create binary variable for Displacement based on typology\n",
    "nbh_race = nbh.sjoin(ct_all_1, how=\"left\")\n",
    "nbh_race.sort_values(by=['FIPS','year'])\n",
    "nbh_race.head()\n",
    "conditions = [(nbh_race['G_Typology']=='Advanced Gentrification'),\n",
    "              (nbh_race['G_Typology']=='At Risk of Gentrification'),\n",
    "              (nbh_race['G_Typology']=='Early/Ongoing Gentrification')]\n",
    "values =[1, 1, 1]\n",
    "nbh_race['Displacement'] =  np.select(conditions, values)\n",
    "\n",
    "## collapse data by neighborhood\n",
    "nbha = nbh_race.groupby(['year','name'],\n",
    "                        as_index=False).agg(Geometry = ('geometry','first'),\n",
    "                                            Displacement = ('Displacement','sum'),\n",
    "                                            Total = ('all_arrest_count','sum'),\n",
    "                                            Black = ('black_arrest_count','sum'),\n",
    "                                            Latino = ('latino_arrest_count','sum'),\n",
    "                                           )\n",
    "## produce a map of gentrifying neighborhoods (just for 2019)                                                              \n",
    "nbha_temp_all = nbha[nbha['year']==2019]\n",
    "\n",
    "fig = px.choropleth_mapbox(nbha_temp_all, geojson=nbha_temp_all.Geometry, locations=nbha_temp_all.index, color='Displacement',\n",
    "                           mapbox_style=\"carto-positron\",\n",
    "                           range_color=(0, 15),\n",
    "                           zoom=9.15, \n",
    "                           center = {\"lat\": 34.02, \"lon\": -118.38411},\n",
    "                           opacity=0.5,\n",
    "                           hover_name = 'name')\n",
    "\n",
    "# options on the layout\n",
    "fig.update_layout(\n",
    "    width = 1200,\n",
    "    height = 800,\n",
    "    title = \"Interactive UDP Gentrifying Neighborhoods\",\n",
    "    title_y=.96,\n",
    "    title_x=0.455,\n",
    ") \n",
    "\n",
    "fig.show()\n",
    "pyo.plot(fig,filename='data/nbh_g.html')"
   ]
  },
  {
   "cell_type": "markdown",
   "id": "8e7d7ef0-7928-4fd9-94a5-c33afede78c5",
   "metadata": {},
   "source": [
    "Similar to the previous map we see displacement is mostly happening in centrally located neighborhoods."
   ]
  },
  {
   "cell_type": "markdown",
   "id": "db30020f-a964-4b8f-ba99-0276d8a3ee27",
   "metadata": {},
   "source": [
    "------------------\n",
    "We sort the data and calculate the rate of black and latino arrests. "
   ]
  },
  {
   "cell_type": "code",
   "execution_count": null,
   "id": "e27bfbda-f28a-4cf0-a424-cb4db0e40f6a",
   "metadata": {},
   "outputs": [],
   "source": [
    "nbha = nbha.sort_values(by=['name','year'])\n",
    "nbha['year'] = nbha['year'].astype('int')\n",
    "nbha['Black_perc'] = (nbha['Black'] / nbha['Total'])*100\n",
    "nbha['Latino_perc'] = (nbha['Latino'] / nbha['Total'])*100\n",
    "nbha = nbha[['year','name','Geometry','Displacement','Black_perc','Latino_perc']]\n",
    "nbha.head()"
   ]
  },
  {
   "cell_type": "markdown",
   "id": "ba873064-cae1-4c1c-a37f-d5d944e34663",
   "metadata": {
    "tags": []
   },
   "source": [
    "#### CIV: Create graphs and maps of arrests in gentrifying communities"
   ]
  },
  {
   "cell_type": "markdown",
   "id": "5beeaa6c-ea9f-4e65-ab8e-6e24ccd16353",
   "metadata": {},
   "source": [
    "We begin to explore how policing and displacement overlap. First we segment the data to only reflect that of 2014 & 2019--this allows us to assess five year change. We also want to focus on neighborhoods with particularly high concentration of gentrifying census tracts."
   ]
  },
  {
   "cell_type": "code",
   "execution_count": null,
   "id": "3a8f8acf-5de5-4a3d-8922-f89537fa712d",
   "metadata": {},
   "outputs": [],
   "source": [
    "nbha_temp= nbha[((nbha['year']==2019) | (nbha['year']==2014)) & (nbha['Displacement']>2)]\n",
    "nbha_temp = nbha_temp.sort_values(by=['name','year'])\n",
    "# Calculate the 2019 arrests by race as a percentage of 2014 arrests \n",
    "nbha_temp['delta_b'] = nbha_temp['Black_perc'].div(nbha_temp.groupby('name')['Black_perc'].shift())\n",
    "nbha_temp['delta_b_perc'] = nbha_temp['delta_b']*100\n",
    "nbha_temp['delta_l'] = nbha_temp['Latino_perc'].div(nbha_temp.groupby('name')['Latino_perc'].shift())\n",
    "nbha_temp['delta_l_perc'] = nbha_temp['delta_l']*100\n",
    "nbha_temp = nbha_temp[nbha_temp.year == 2019].reset_index(drop = True)\n",
    "nbha_temp.info()"
   ]
  },
  {
   "cell_type": "code",
   "execution_count": null,
   "id": "981a7cca-9db2-4ba0-bd4f-8f85e9b5a4d0",
   "metadata": {},
   "outputs": [],
   "source": [
    "nbha_temp.head()"
   ]
  },
  {
   "cell_type": "code",
   "execution_count": null,
   "id": "7d48b562-968a-4de5-bb30-b5fbfdf84fa0",
   "metadata": {},
   "outputs": [],
   "source": [
    "# let's plot our findings from above\n",
    "fig = go.Figure()\n",
    "\n",
    "# set visual style\n",
    "sns.set(style=\"darkgrid\")\n",
    "\n",
    "fig.add_trace(go.Bar(x=nbha_temp['name'],\n",
    "                y=nbha_temp['delta_b_perc'],\n",
    "                name='Black arrests',\n",
    "                marker_color='rgb(35,144,163)',\n",
    "                     opacity = .8\n",
    "                ))\n",
    "\n",
    "fig.add_trace(go.Bar(x=nbha_temp['name'],\n",
    "                y=nbha_temp['delta_l_perc'],\n",
    "                name='Latino arrests',\n",
    "                marker_color='rgb(255,148,59)',\n",
    "                     opacity = .8\n",
    "                ))\n",
    "\n",
    "fig.add_hline(y=100, line_dash=\"dot\")\n",
    "\n",
    "fig.add_annotation(x=21, y=103,\n",
    "            text=\"arrest change threshold\",\n",
    "                  showarrow = True)\n",
    "\n",
    "fig.update_layout(\n",
    "    title='Arrests by race over time in gentrifying LA neighborhoods',\n",
    "    title_y = .9,\n",
    "    xaxis_tickfont_size=12,\n",
    "    yaxis=dict(\n",
    "        title='Arrests in 2019 as a percentage of 2014 arrests',\n",
    "        titlefont_size=14,\n",
    "        tickfont_size=12,\n",
    "    ),\n",
    "    legend=dict(\n",
    "        x=1,\n",
    "        y=1.0,\n",
    "        bgcolor='rgba(255, 255, 255, 0)',\n",
    "        bordercolor='rgba(255, 255, 255, 0)'\n",
    "    ),\n",
    "    barmode='group',\n",
    "    bargap=0.15, # gap between bars of adjacent location coordinates.\n",
    "    bargroupgap=0.1 ,# gap between bars of the same location coordinate.\n",
    "    \n",
    "    width=1500,\n",
    "    height=750\n",
    ")\n",
    "fig.show()"
   ]
  },
  {
   "cell_type": "markdown",
   "id": "d042388f-17fd-457d-919f-07938f9d2a39",
   "metadata": {},
   "source": [
    "Data above the threshold represents where there has been increased arrests of black or latino folks in the community over the 5 year period. Neighborhoods like Adams-Normandie, Chinatown, Harbor Gateway, Highland Park, Hollywood, Jefferson Park, and Palms stand out. A next step would be to conduct a ground-truthing exercise through a literature review and perhaps qualitative interviews to confirm a \"gentrifying\" process in the neighborhood. We will also want to examine how the magnitude of increase in arrests correlates with said stage of gentrification."
   ]
  },
  {
   "cell_type": "markdown",
   "id": "ace802ba-a8b4-41fa-afe6-35446c9beb5f",
   "metadata": {},
   "source": [
    "------------------------\n",
    "Create an interactive and static map of our findings"
   ]
  },
  {
   "cell_type": "code",
   "execution_count": null,
   "id": "fbd137f0-68f7-4095-a3a7-4c5c6bf34e82",
   "metadata": {},
   "outputs": [],
   "source": [
    "# create interactive map\n",
    "nbha_temp['Black Arrests in 2019 as percentage of 2014']=nbha_temp['delta_b_perc']\n",
    "fig = px.choropleth_mapbox(nbha_temp, geojson=nbha_temp.Geometry, locations=nbha_temp.index, color='Black Arrests in 2019 as percentage of 2014',\n",
    "                           mapbox_style=\"carto-positron\",\n",
    "                           range_color=(50, 200),\n",
    "                           zoom=9.15, \n",
    "                           center = {\"lat\": 34.02, \"lon\": -118.38411},\n",
    "                           opacity=0.75,\n",
    "                           hover_name = 'name')\n",
    "# options on the layout\n",
    "fig.update_layout(\n",
    "    width = 1200,\n",
    "    height = 800,\n",
    "    title = \"Interactive Map of Shifts in Black Arrests in UDP Gentrifying Neighborhoods\",\n",
    "    title_y=.96,\n",
    "    title_x=0.455,\n",
    ") \n",
    "fig.show()\n",
    "pyo.plot(fig)\n",
    "fig.write_html(\"data/arrest_gentrified.html\")\n",
    "\n",
    "# create static map\n",
    "nbha_temp_STATIC = nbha_temp.set_geometry(nbha_temp['Geometry'])\n",
    "nbha_temp_STATIC.plot(figsize=(20,10),\n",
    "                      column='Black Arrests in 2019 as percentage of 2014',\n",
    "                      legend=True,\n",
    "                      scheme='NaturalBreaks',\n",
    "                      legend_kwds={'title': \"Black Arrests in 2019 as percentage of 2014\",\n",
    "                                   }\n",
    "                     )\n",
    "                     "
   ]
  },
  {
   "cell_type": "markdown",
   "id": "a7aca5b5-b713-4bbf-a272-e04ebf6f2535",
   "metadata": {},
   "source": [
    "We see particular gentrifying neighborhoods, mostly on the east side of LA (Chinatown and Highland park), double in arrests of black folks over the period from 2014-2019. More centrally located neighborhoods roughly maintained arrest rates of black folks."
   ]
  },
  {
   "cell_type": "markdown",
   "id": "3f7e4351-d190-4457-9798-bd717d6a761a",
   "metadata": {},
   "source": [
    "##### Concluding remarks\n",
    "We believe we are on our way to creating an updated version of UDP's project from several years ago. It is unlikely that we will achieve a comprehensive index of spatially-correlated gentrification and low-level policing in LA in the remaining 5 weeks of the course. However, we will, at least try to hone on specific neighborhoods and specific inputs that underscore the relatinoship between state violence and displacement."
   ]
  },
  {
   "cell_type": "markdown",
   "id": "fa315410-2b95-4f13-af44-3834e5859754",
   "metadata": {},
   "source": [
    "**Task Dispersement:**\n",
    "- Joshua focused on the research questions and framework for the correlation between gentrification and policing. He mostly coded and visualized policing data as it intersects with Urban Displacement Project data, but also did some preliminary coding of the demographic shift data to inform our gentrification model. (Mostly Part C with some help in Part A)\n",
    "- Miles focused on building a framework for defining gentrification and the collection, analysis and visualization of the data that used to build that framework. He also worked to combine the work done across members via this notebook. (Mostly Part A and notebook organization)\n",
    "- John worked on LAPD Police Call data and Police Scorecard Data; obtaining, cleaning and visualizing the data related to policing. (Mostly Part B)"
   ]
  },
  {
   "cell_type": "code",
   "execution_count": null,
   "id": "6327aaf8-d735-4142-9165-1ddb344f975f",
   "metadata": {},
   "outputs": [],
   "source": []
  }
 ],
 "metadata": {
  "kernelspec": {
   "display_name": "Python 3 (ipykernel)",
   "language": "python",
   "name": "python3"
  },
  "language_info": {
   "codemirror_mode": {
    "name": "ipython",
    "version": 3
   },
   "file_extension": ".py",
   "mimetype": "text/x-python",
   "name": "python",
   "nbconvert_exporter": "python",
   "pygments_lexer": "ipython3",
   "version": "3.10.8"
  }
 },
 "nbformat": 4,
 "nbformat_minor": 5
}
